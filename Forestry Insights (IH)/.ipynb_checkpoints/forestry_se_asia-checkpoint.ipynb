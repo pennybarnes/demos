{
 "cells": [
  {
   "cell_type": "markdown",
   "metadata": {},
   "source": [
    "# Deforestation and forest carbon in Southeast Asia\n",
    "## Empowering rapid hypothesis testing and large-scale analysis\n",
    "\n",
    "This notebook displays the results developed around deforestation and forest carbon."
   ]
  },
  {
   "cell_type": "code",
   "execution_count": null,
   "metadata": {},
   "outputs": [],
   "source": [
    "from datetime import datetime\n",
    "from dateutil.relativedelta import relativedelta\n",
    "import matplotlib.pyplot as plt\n",
    "import numpy as np\n",
    "import pandas as pd\n",
    "\n",
    "import descarteslabs as dl\n",
    "import descarteslabs.workflows as wf\n",
    "\n",
    "import forestry_insights_utils as utils"
   ]
  },
  {
   "cell_type": "markdown",
   "metadata": {},
   "source": [
    "## 1. Queryable Sustainability Insights\n",
    "\n",
    "#### Rapid analysis of multiple data layers combined lead to better understanding of the sustainability challenges "
   ]
  },
  {
   "cell_type": "code",
   "execution_count": null,
   "metadata": {},
   "outputs": [],
   "source": [
    "# Select a target year\n",
    "target_year = 2020\n",
    "\n",
    "# Definitions\n",
    "if target_year == 2017:\n",
    "    composite_product = 'descarteslabs:forest_carbon:S2_2017:composite:v1.1'\n",
    "    forest_mask_product = 'descarteslabs:Sentinel2:ForestMask:2017:mv1'\n",
    "    deforestation_product = 'descarteslabs:ul_deforestation_historical_v1'\n",
    "    deforestation_start = '2020-04-01'\n",
    "    deforestation_end = '2020-07-30'\n",
    "elif target_year == 2020:\n",
    "    composite_product = 'descarteslabs:forest_carbon:S2_GEDI:composite:v1.0'\n",
    "    forest_mask_product = 'descarteslabs:Sentinel2:ForestMask:2020:vtest:deeplabv3plus_20200730-201849_ckpt-17_OS16'\n",
    "    deforestation_product = 'descarteslabs:ul_deforestation_external_v3'\n",
    "    deforestation_start = '2020-07-01'\n",
    "    deforestation_end = '2020-10-30'\n",
    "forest_carbon_product = \"descarteslabs:GEDI:TCH:ForestCarbon:final:v2.1\"\n",
    "    \n",
    "# Load Sentinel 2 composite\n",
    "s2_ic = (wf.ImageCollection.from_id(composite_product,\n",
    "                                start_datetime='2015-01-01',\n",
    "                                end_datetime='2020-12-01',\n",
    "                                resampler='near')\n",
    "                            .mosaic())\n",
    "s2_composite = s2_ic.pick_bands(\"red green blue\")\n",
    "\n",
    "# Get Descartes Labs' forest carbon density product\n",
    "dl_forest_carbon = (wf.ImageCollection.from_id(forest_carbon_product,\n",
    "                                    start_datetime='2019-01-01',\n",
    "                                    end_datetime='2020-12-31',\n",
    "                                    resampler='near')\n",
    "                   .mosaic())\n",
    "dl_acd = dl_forest_carbon.pick_bands([\"acd_tons\"])\n",
    "dl_acd = dl_acd.mask(dl_acd==0)\n",
    "\n",
    "# Load Descartes Labs' Palm Masks \n",
    "dl_palm_ic = (wf.ImageCollection.from_id('descarteslabs:unilever-palm-classification-multiband',\n",
    "                                start_datetime='2019-01-01',\n",
    "                                end_datetime='2020-07-01',\n",
    "                                resampler='near')\n",
    "                .mosaic())\n",
    "#dl_palm_mask = dl_palm_ic.pick_bands(\"2017 2018 2019\")\n",
    "dl_palm_2017, dl_palm_2019 = dl_palm_ic.unpack_bands(\"2017 2019\")\n",
    "dl_palm_2017 = dl_palm_2017.mask(dl_palm_2017==0)\n",
    "dl_palm_2019 = dl_palm_2019.mask(dl_palm_2019==0)\n",
    "\n",
    "# Load Descartes Labs' deforestation product\n",
    "defor_ic = (wf.ImageCollection.from_id(deforestation_product,\n",
    "                                start_datetime=deforestation_start,\n",
    "                                end_datetime=deforestation_end,\n",
    "                                resampler='near')\n",
    "                            .max(axis='images'))\n",
    "detections = defor_ic.pick_bands(\"detection_date\")\n",
    "dl_deforestation = detections.mask(detections==0)"
   ]
  },
  {
   "cell_type": "code",
   "execution_count": null,
   "metadata": {},
   "outputs": [],
   "source": [
    "# Visualize all layers together\n",
    "s2_composite.visualize('S2 Composite ' + str(target_year), scales=[[0, 1400], [0, 1400], [0, 1400]])\n",
    "dl_acd.visualize('DL Forest Carbon (2019-2020)', checkerboard=False, scales=[0,30], colormap=\"viridis\")\n",
    "#dl_palm_mask.visualize('DL Palm Mask (2017-2019)', checkerboard=False, scales=[[0, 1], [0, 1], [0, 1]])\n",
    "dl_palm_2017.visualize('DL Palm Mask (2017)', colormap = 'YlOrBr', scales=[0,2], checkerboard=False)\n",
    "dl_palm_2019.visualize('DL Palm Mask (2019)', colormap = 'YlOrRd', scales=[0,1.1], checkerboard=False)\n",
    "#dl_palm_2020.visualize('DL Palm Mask (2020)', colormap = 'Purples', scales=[0,1], checkerboard=False)\n",
    "dl_deforestation.visualize(\"DL Deforestation\", colormap = 'magma', checkerboard=False)"
   ]
  },
  {
   "cell_type": "code",
   "execution_count": null,
   "metadata": {},
   "outputs": [],
   "source": [
    "m=wf.map\n",
    "m.map.center = -1.2015, 116.5351\n",
    "wf.map.zoom = 12\n",
    "m"
   ]
  },
  {
   "cell_type": "markdown",
   "metadata": {},
   "source": [
    "### 1.1 Calculate Forest Carbon Lost Over the AOI "
   ]
  },
  {
   "cell_type": "code",
   "execution_count": null,
   "metadata": {},
   "outputs": [],
   "source": [
    "# Create the CarbonLost object, a custom widget defined in forestry_insights_utils.py\n",
    "# This is the widget that will compute the time series of forest loss due to deforestation of your field of interest. \n",
    "c = utils.CarbonLost(wf.map)"
   ]
  },
  {
   "cell_type": "markdown",
   "metadata": {},
   "source": [
    "## 2. Easy customization of analyses\n",
    "\n",
    "#### Easily customize the data layers within the Descartes Labs Platform\n",
    "\n",
    "### 2.1 Create custom forest masks"
   ]
  },
  {
   "cell_type": "code",
   "execution_count": null,
   "metadata": {},
   "outputs": [],
   "source": [
    "# Clear layers from the previous analysis\n",
    "m.clear_layers()\n",
    "c.clear_control_button()\n",
    "\n",
    "# Load Sentinel 2 composite\n",
    "composite_product = 'descarteslabs:forest_carbon:S2_GEDI:composite:v1.0'\n",
    "s2_ic = (wf.ImageCollection.from_id(composite_product,\n",
    "                                start_datetime='2015-01-01',\n",
    "                                end_datetime='2020-12-01',\n",
    "                                resampler='near')\n",
    "                            .mosaic())\n",
    "s2_composite = s2_ic.pick_bands(\"red green blue\")\n",
    "s2_composite.visualize('S2 Composite 2020', scales=[[0, 1400], [0, 1400], [0, 1400]])\n",
    "\n",
    "# Load Descartes Labs' Forest Mask probabilities\n",
    "forest_mask_product = 'descarteslabs:Sentinel2:ForestMask:2020:vtest:deeplabv3plus_20200730-201849_ckpt-17_OS16'\n",
    "dl_forest_ic = (wf.ImageCollection.from_id(forest_mask_product,\n",
    "                                start_datetime='2019-01-01',\n",
    "                                end_datetime='2020-12-01',\n",
    "                                resampler='near')\n",
    "                            .mosaic())\n",
    "\n",
    "# Load and visualize the probabilities calcualted by the convolutional neural network (CNN)\n",
    "dl_forest_probs = dl_forest_ic.pick_bands(['raw_prob_100'])\n",
    "dl_forest_probs.visualize('DL Forest Mask Probabilities', checkerboard=False, scales=[0,100], colormap=\"Greens\")\n",
    "\n",
    "# Define function to calculate a binary forest mask using a given probability threshold\n",
    "def create_forest_mask(probabilities, threshold):\n",
    "    \n",
    "    forest_mask = probabilities.mask(probabilities < threshold)\n",
    "    forest_mask = forest_mask.map_bands(lambda name, band: threshold * band / band)\n",
    "    forest_mask.visualize('DL Forest Mask - ' + str(threshold), checkerboard=False, scales=[0,80], colormap=\"magma\")\n",
    "    \n",
    "    return forest_mask"
   ]
  },
  {
   "cell_type": "code",
   "execution_count": null,
   "metadata": {},
   "outputs": [],
   "source": [
    "m=wf.map\n",
    "m.clear_controls()\n",
    "m.map.center = -1.1936, 116.4424#-0.8085, 115.9621#-1.8399, 114.0189#\n",
    "wf.map.zoom = 12\n",
    "m"
   ]
  },
  {
   "cell_type": "code",
   "execution_count": null,
   "metadata": {},
   "outputs": [],
   "source": [
    "# Calculate forest mask using a probabilitythreshold of 25%\n",
    "forest_mask_25 = create_forest_mask(dl_forest_probs, 25)"
   ]
  },
  {
   "cell_type": "code",
   "execution_count": null,
   "metadata": {},
   "outputs": [],
   "source": [
    "# Now calculate forest masks using thresholds of 50% and 75%\n",
    "forest_mask_50 = create_forest_mask(dl_forest_probs, 50)\n",
    "forest_mask_75 = create_forest_mask(dl_forest_probs, 75)"
   ]
  },
  {
   "cell_type": "markdown",
   "metadata": {},
   "source": [
    "### 2.2 Apply a different allometric model"
   ]
  },
  {
   "cell_type": "code",
   "execution_count": null,
   "metadata": {},
   "outputs": [],
   "source": [
    "# Load Descartes Labs' tree canopy height product\n",
    "dl_forest_carbon = (wf.ImageCollection.from_id(forest_carbon_product,\n",
    "                                    start_datetime='2019-01-01',\n",
    "                                    end_datetime='2020-12-31',\n",
    "                                    resampler='near')\n",
    "                   .mosaic())\n",
    "dl_tch = dl_forest_carbon.pick_bands([\"tch_rh95_metres\"])\n",
    "dl_tch = dl_tch.mask(dl_tch==0)\n",
    "\n",
    "# Define new allometric equation\n",
    "def calculate_acd(tch):\n",
    "    \n",
    "    # Equation of above ground carbon density (units: Mg C/ha)\n",
    "    acd = 0.05*(tch**2.4)\n",
    "    \n",
    "    # Scale to resolution of the product (units: Mg C/pixel area)\n",
    "    resolution = 30 # meters\n",
    "    scale = (resolution**2)/(10000.)\n",
    "    acd = acd*scale\n",
    "    \n",
    "    return acd \n",
    "\n",
    "# Calculate above-ground carbon density (ACD) from tree canopy height (TCH)\n",
    "acd = calculate_acd(dl_tch)\n",
    "\n",
    "# Visualize\n",
    "m.clear_layers()\n",
    "acd.visualize('ACD (Mg C/pixel area)', checkerboard=False, scales=[0,30], colormap=\"viridis\")\n",
    "dl_tch.visualize('DL TCH (m)', checkerboard=False, scales=[0,50], colormap=\"plasma\")"
   ]
  },
  {
   "cell_type": "code",
   "execution_count": null,
   "metadata": {},
   "outputs": [],
   "source": [
    "m=wf.map\n",
    "m.map.center = -1.1936, 116.4424#-0.8085, 115.9621#-1.8399, 114.0189#\n",
    "wf.map.zoom = 12\n",
    "m"
   ]
  },
  {
   "cell_type": "markdown",
   "metadata": {},
   "source": [
    "### 2.3 Custom classification of high, medium, low carbon density"
   ]
  },
  {
   "cell_type": "code",
   "execution_count": null,
   "metadata": {},
   "outputs": [],
   "source": [
    "# Define thresholds (Mg C/pixel area)\n",
    "class_thresholds = [0, 5, 15]\n",
    "\n",
    "# Separate by the new classes\n",
    "acd_low = acd.mask(acd > class_thresholds[1])\n",
    "acd_low = acd_low.map_bands(lambda name, band: band / band)\n",
    "acd_low.visualize('Low ACD', checkerboard=False, scales=[0,1.5], colormap=\"Blues\")\n",
    "\n",
    "acd_med = acd.mask((acd < class_thresholds[1]) | (acd > class_thresholds[2]))\n",
    "acd_med = acd_med.map_bands(lambda name, band: band / band)\n",
    "acd_med.visualize('Medium ACD', checkerboard=False, scales=[0,2], colormap=\"Oranges\")\n",
    "\n",
    "acd_high = acd.mask(acd < class_thresholds[2])\n",
    "acd_med = acd_high.map_bands(lambda name, band: band / band)\n",
    "acd_high.visualize('High ACD', checkerboard=False, scales=[0,2], colormap=\"Reds\")"
   ]
  },
  {
   "cell_type": "markdown",
   "metadata": {},
   "source": [
    "## 3. Dynamic analysis of large amounts of data\n",
    "\n",
    "#### Rapid hypothesis testing and exploratory analysis\n",
    "\n",
    "### 3.1 Comparing composites"
   ]
  },
  {
   "cell_type": "code",
   "execution_count": null,
   "metadata": {},
   "outputs": [],
   "source": [
    "m=wf.map\n",
    "m.clear_layers()\n",
    "m.map.center = -22.6203, -48.2224\n",
    "wf.map.zoom = 5\n",
    "m"
   ]
  },
  {
   "cell_type": "code",
   "execution_count": null,
   "metadata": {},
   "outputs": [],
   "source": [
    "# Definitions\n",
    "product_id = \"sentinel-2:L1C\"\n",
    "bands = [\"blue\", \"green\", \"red\", \"nir\"]\n",
    "start_date = \"2020-01-01\"\n",
    "end_date = \"2020-07-01\"\n",
    "process_level = \"surface\"\n",
    "dl_cloud = \"sentinel-2:L1C:dlcloud:v1\"\n",
    "cloud_band = [\"valid_cloudfree\"]\n",
    "cloud_invalid = 0\n",
    "\n",
    "# Get masked image collection \n",
    "image_collection = utils.get_masked_images(\n",
    "    product_id,\n",
    "    bands=bands,\n",
    "    start_datetime=start_date,\n",
    "    end_datetime=end_date,\n",
    "    processing_level=process_level, \n",
    "    cloudmask_product=dl_cloud,\n",
    "    cloudmask_bands=cloud_band,\n",
    "    cloudmask_invalid=cloud_invalid,\n",
    ")\n",
    "\n",
    "# Visualize\n",
    "image_collection.pick_bands(\"red green blue\").visualize(\"Sentinel-2 Stack\", scales=[[0, 1400], [0, 1400], [0, 1400]])"
   ]
  },
  {
   "cell_type": "code",
   "execution_count": null,
   "metadata": {},
   "outputs": [],
   "source": [
    "geocontext = wf.map.geocontext()\n",
    "print('Number of S2 masked images: {}'.format(image_collection.length().compute(geocontext)))"
   ]
  },
  {
   "cell_type": "markdown",
   "metadata": {},
   "source": [
    "### 3.2 A quick look at land cover"
   ]
  },
  {
   "cell_type": "code",
   "execution_count": null,
   "metadata": {},
   "outputs": [],
   "source": [
    "# Calculate median of the image collection\n",
    "composite = image_collection.median(axis='images')"
   ]
  },
  {
   "cell_type": "code",
   "execution_count": null,
   "metadata": {},
   "outputs": [],
   "source": [
    "m"
   ]
  },
  {
   "cell_type": "code",
   "execution_count": null,
   "metadata": {},
   "outputs": [],
   "source": [
    "# Plot NDVI\n",
    "red, nir = composite.unpack_bands('red nir')\n",
    "ndvi = (nir-red)/(nir+red)\n",
    "\n",
    "# Visualize\n",
    "ndvi.visualize(\"NDVI\", scales=[-1,1], colormap = 'plasma', checkerboard=False)"
   ]
  },
  {
   "cell_type": "code",
   "execution_count": null,
   "metadata": {},
   "outputs": [],
   "source": [
    "# Get vegetation mask\n",
    "vegetation = ndvi.mask(ndvi<0.5)\n",
    "vegetation = vegetation.map_bands(lambda name, band: band / band)\n",
    "\n",
    "# Get water mask\n",
    "water = ndvi.mask(ndvi>0.1)\n",
    "water = water.map_bands(lambda name, band: band / band)\n",
    "\n",
    "# Visualize\n",
    "vegetation.visualize(\"Vegetation Mask\", scales=[0,1], colormap = 'Greens', checkerboard=False)\n",
    "water.visualize(\"Water Mask 1\", scales=[0,1], colormap = 'Blues', checkerboard=False)"
   ]
  },
  {
   "cell_type": "code",
   "execution_count": null,
   "metadata": {},
   "outputs": [],
   "source": [
    "def find_water(image_composite):\n",
    "    \n",
    "    # Calculate the Normalized Difference Index to identify water regions\n",
    "    blue, nir = image_composite.unpack_bands(\"blue nir\")\n",
    "    index = (blue-nir)/(blue+nir)\n",
    "    \n",
    "    # Mask the image based on a given threshold\n",
    "    threshold = -0.25\n",
    "    index_masked = index.mask(index<threshold)\n",
    "    water_mask = index_masked.map_bands(lambda name, band: band / band)\n",
    "    \n",
    "    return water_mask\n",
    "    \n",
    "# Get a better water mask!\n",
    "water_mask = find_water(composite)\n",
    "\n",
    "# Visualize\n",
    "water_mask.visualize(\"Water Mask 2\", scales=[0,1], colormap = 'Blues', checkerboard=False)"
   ]
  },
  {
   "cell_type": "code",
   "execution_count": null,
   "metadata": {},
   "outputs": [],
   "source": []
  }
 ],
 "metadata": {
  "kernelspec": {
   "display_name": "Python 3",
   "language": "python",
   "name": "python3"
  },
  "language_info": {
   "codemirror_mode": {
    "name": "ipython",
    "version": 3
   },
   "file_extension": ".py",
   "mimetype": "text/x-python",
   "name": "python",
   "nbconvert_exporter": "python",
   "pygments_lexer": "ipython3",
   "version": "3.7.10"
  }
 },
 "nbformat": 4,
 "nbformat_minor": 4
}
