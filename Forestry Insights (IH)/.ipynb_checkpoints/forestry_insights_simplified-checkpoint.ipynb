{
 "cells": [
  {
   "cell_type": "markdown",
   "metadata": {},
   "source": [
    "# Tropical Deforestation Monitoring with Forest Carbon Impact\n",
    "## Empowering large-scale analysis and rapid hypothesis testing\n",
    "\n"
   ]
  },
  {
   "cell_type": "code",
   "execution_count": 1,
   "metadata": {},
   "outputs": [],
   "source": [
    "import logging\n",
    "logging.getLogger().setLevel(logging.INFO)\n",
    "logging.captureWarnings(True)\n",
    "\n",
    "# Import libraries\n",
    "import numpy as np\n",
    "import pandas as pd\n",
    "from datetime import datetime\n",
    "from dateutil.relativedelta import relativedelta\n",
    "import matplotlib.pyplot as plt\n",
    "\n",
    "# Import Descartes Labs' libraries\n",
    "import descarteslabs as dl\n",
    "import descarteslabs.workflows as wf\n",
    "\n",
    "# Import custom library for this demo\n",
    "import forestry_insights_utils as utils"
   ]
  },
  {
   "cell_type": "markdown",
   "metadata": {},
   "source": [
    "## 1. Queryable Sustainability Insights\n",
    "\n",
    "#### Rapid analysis of multiple data layers combined lead to better understanding of the sustainability challenges "
   ]
  },
  {
   "cell_type": "code",
   "execution_count": 2,
   "metadata": {},
   "outputs": [],
   "source": [
    "# Select a target year\n",
    "target_year = 2020\n",
    "\n",
    "# Definitions\n",
    "if target_year == 2017:\n",
    "    composite_product = 'descarteslabs:forest_carbon:S2_2017:composite:v1.1'\n",
    "    forest_mask_product = 'descarteslabs:Sentinel2:ForestMask:2017:mv1'\n",
    "    deforestation_product = 'descarteslabs:ul_deforestation_historical_v1'\n",
    "    deforestation_start = '2020-04-01'\n",
    "    deforestation_end = '2020-07-30'\n",
    "elif target_year == 2020:\n",
    "    composite_product = 'descarteslabs:forest_carbon:S2_GEDI:composite:v1.0'\n",
    "    forest_mask_product = 'descarteslabs:Sentinel2:ForestMask:2020:vtest:deeplabv3plus_20200730-201849_ckpt-17_OS16'\n",
    "    deforestation_product = 'descarteslabs:ul_deforestation_external_v3'\n",
    "    deforestation_start = '2020-04-01'\n",
    "    deforestation_end = '2020-12-30'\n",
    "    \n",
    "# Load Sentinel 2 composite\n",
    "s2_ic = (wf.ImageCollection.from_id(composite_product,\n",
    "                                start_datetime='2015-01-01',\n",
    "                                end_datetime='2020-12-01',\n",
    "                                resampler='near')\n",
    "                            .mosaic())\n",
    "s2_composite = s2_ic.pick_bands(\"red green blue\")\n",
    "\n",
    "# Sentinel-2 imagery - 1\n",
    "s2 = (wf.ImageCollection.from_id(\"sentinel-2:L1C\",\n",
    "                                start_datetime='2020-04-01',\n",
    "                                end_datetime='2021-01-21')\n",
    "    .filter(lambda img: img.properties['cloud_fraction'] < 0.1)\n",
    "    .median(axis='images')\n",
    ")\n",
    "\n",
    "# Sentinel-2 imagery - 2\n",
    "s2_1 = (wf.ImageCollection.from_id(\"sentinel-2:L1C\",\n",
    "                                start_datetime='2019-04-01',\n",
    "                                end_datetime='2020-10-21')\n",
    "    .filter(lambda img: img.properties['cloud_fraction'] < 0.1)\n",
    "    .median(axis='images')\n",
    ")\n",
    "\n",
    "# Get Descartes Labs' forest carbon density product\n",
    "dl_forest_carbon = (wf.ImageCollection.from_id(\"descarteslabs:GEDI:TCH:ForestCarbon:final:v2.1\",\n",
    "                                    start_datetime='2019-01-01',\n",
    "                                    end_datetime='2020-12-31',\n",
    "                                    resampler='near')\n",
    "                   .mosaic())\n",
    "dl_acd = dl_forest_carbon.pick_bands([\"acd_tons\"])\n",
    "dl_acd = dl_acd.mask(dl_acd==0)\n",
    "\n",
    "# Load Descartes Labs' Palm Mask \n",
    "dl_palm_ic = (wf.ImageCollection.from_id('descarteslabs:unilever-palm-classification-multiband',\n",
    "                                start_datetime='2019-01-01',\n",
    "                                end_datetime='2020-07-01',\n",
    "                                resampler='near')\n",
    "                .mosaic())\n",
    "dl_palm_mask = dl_palm_ic.pick_bands(\"2017 2018 2019\")\n",
    "\n",
    "\n",
    "# Load Descartes Labs' deforestation product\n",
    "defor_ic = (wf.ImageCollection.from_id(deforestation_product,\n",
    "                                start_datetime=deforestation_start,\n",
    "                                end_datetime=deforestation_end,\n",
    "                                resampler='near')\n",
    "                            .max(axis='images'))\n",
    "detections = defor_ic.pick_bands(\"detection_date\")\n",
    "dl_deforestation = detections.mask(detections==0)"
   ]
  },
  {
   "cell_type": "code",
   "execution_count": 3,
   "metadata": {},
   "outputs": [],
   "source": [
    "# Visualize all layers together\n",
    "s2_composite.visualize('S2 Composite ' + str(target_year), scales=[[0, 1400], [0, 1400], [0, 1400]])\n",
    "dl_acd.visualize('DL Forest Carbon (2019-2020)', checkerboard=False, scales=[0,30], colormap=\"viridis\")\n",
    "dl_palm_mask.visualize('DL Palm Mask (2017-2019)', checkerboard=False, scales=[[0, 1], [0, 1], [0, 1]])\n",
    "rgb1 = s2_1.pick_bands(\"red green blue\")\n",
    "rgb1.visualize(\"RGB_Before\", scales=[[0.000,0.25],[0.000,0.25],[0.000,0.25]])\n",
    "rgb = s2.pick_bands(\"red green blue\")\n",
    "rgb.visualize(\"RGB_After\", scales=[[0.000,0.25],[0.000,0.25],[0.000,0.25]])\n",
    "dl_deforestation.visualize(\"DL Deforestation\", colormap = 'magma', checkerboard=False)"
   ]
  },
  {
   "cell_type": "code",
   "execution_count": 4,
   "metadata": {},
   "outputs": [
    {
     "data": {
      "application/vnd.jupyter.widget-view+json": {
       "model_id": "2bb76b433546455abfa2d45f9a649272",
       "version_major": 2,
       "version_minor": 0
      },
      "text/plain": [
       "\n",
       "`ipyleaflet` and/or `ipywidgets` Jupyter extensions are not installed! (or you're not in a Jupyter notebook.)\n",
       "To install for JupyterLab, run this in a cell:\n",
       "    !jupyter labextension install jupyter-leaflet @jupyter-widgets/jupyterlab-manager\n",
       "To install for plain Jupyter Notebook, run this in a cell:\n",
       "    !jupyter nbextension enable --py --sys-prefix ipyleaflet\n",
       "Then, restart the kernel and refresh the webpage.\n"
      ]
     },
     "metadata": {},
     "output_type": "display_data"
    }
   ],
   "source": [
    "m=wf.map\n",
    "m.map.center = -0.4784, 116.5319\n",
    "wf.map.zoom = 13\n",
    "wf.map.map.layout.height = \"500px\"\n",
    "m"
   ]
  },
  {
   "cell_type": "markdown",
   "metadata": {},
   "source": [
    "### 1.1 Calculate Forest Carbon Lost Over the AOI "
   ]
  },
  {
   "cell_type": "code",
   "execution_count": 5,
   "metadata": {},
   "outputs": [],
   "source": [
    "# Create the `ForestLoss` object, a custom widget defined in `forestry_insights_utils.py`\n",
    "# This is the widget that will compute the time series of forest loss due to deforestation of your field of interest. \n",
    "c = utils.CarbonLost(wf.map)"
   ]
  },
  {
   "cell_type": "code",
   "execution_count": null,
   "metadata": {},
   "outputs": [],
   "source": []
  }
 ],
 "metadata": {
  "kernelspec": {
   "display_name": "Python 3",
   "language": "python",
   "name": "python3"
  },
  "language_info": {
   "codemirror_mode": {
    "name": "ipython",
    "version": 3
   },
   "file_extension": ".py",
   "mimetype": "text/x-python",
   "name": "python",
   "nbconvert_exporter": "python",
   "pygments_lexer": "ipython3",
   "version": "3.7.8"
  }
 },
 "nbformat": 4,
 "nbformat_minor": 4
}
