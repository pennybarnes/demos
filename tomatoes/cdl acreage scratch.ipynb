{
 "cells": [
  {
   "cell_type": "code",
   "execution_count": 10,
   "id": "9b83c478",
   "metadata": {},
   "outputs": [],
   "source": [
    "import logging\n",
    "logging.getLogger().setLevel(logging.INFO)\n",
    "logging.captureWarnings(True)\n",
    "\n",
    "import json\n",
    "import pkg_resources\n",
    "\n",
    "import numpy as np\n",
    "import matplotlib.pyplot as plt\n",
    "import descarteslabs as dl\n",
    "from descarteslabs import workflows as wf\n",
    "from tqdm.notebook import tqdm\n",
    "import pandas as pd\n",
    "from shapely import geometry as sgeom\n",
    "\n",
    "import will_utils as utils"
   ]
  },
  {
   "cell_type": "code",
   "execution_count": 11,
   "id": "0ef534a5",
   "metadata": {},
   "outputs": [],
   "source": [
    "product_id = 'sentinel-2:L1C'\n",
    "start_datetime='2015-01-01'\n",
    "end_datetime='2021-10-01'\n",
    "year=2018"
   ]
  },
  {
   "cell_type": "code",
   "execution_count": 12,
   "id": "de3beddc",
   "metadata": {},
   "outputs": [
    {
     "name": "stdout",
     "output_type": "stream",
     "text": [
      "\n",
      "Job ID: 9a6b6d92413b246482a06c7c4afc0033c25853c091f1e4b5\n",
      "[      ] | Steps: 0/0 | Stage: SUCCEEDED                                      "
     ]
    }
   ],
   "source": [
    "#import yolo country\n",
    "tomato_aoi = json.load(open('tomatoes_ndvi.geojson'))\n",
    "\n",
    "# #Get UTM EPSG code\n",
    "shapely_aoi = sgeom.shape(tomato_aoi['features'][0]['geometry'])\n",
    "lat, lon = shapely_aoi.centroid.y, shapely_aoi.centroid.x\n",
    "utm_epsg = utils.wgs_to_epsg(lat, lon)\n",
    "\n",
    "#Create workflows context\n",
    "wf_ctx = wf.GeoContext(\n",
    "                geometry=tomato_aoi['features'][0]['geometry'],\n",
    "                resolution=10.0,\n",
    "                crs=f'EPSG:{utm_epsg}',\n",
    "                bounds_crs='EPSG:4326')\n",
    "\n",
    "# #Convert to a tile \n",
    "wf_ctx_data = wf_ctx.compute(progress_bar=True)\n",
    "reflat, reflon = wf_ctx_data['bounds'][1], wf_ctx_data['bounds'][0]\n",
    "tilesize= max(wf_ctx_data['arr_shape'])\n",
    "tile = dl.scenes.DLTile.from_latlon(reflat, reflon, wf_ctx_data['resolution'], tilesize, 0)\n"
   ]
  },
  {
   "cell_type": "markdown",
   "id": "f739540f",
   "metadata": {},
   "source": [
    "Here we start to define the workflow. We will use Sentinel-2 imagery which has a resolution of 10 meters. In this next block of code, comments have been added before each step explaining what is happening in more detail."
   ]
  },
  {
   "cell_type": "code",
   "execution_count": 14,
   "id": "d476deb7",
   "metadata": {},
   "outputs": [],
   "source": [
    "def get_cdl(dltile, year, labels):\n",
    "    if 255 in labels:\n",
    "        assert labels[-1] == 255\n",
    "        labels = labels[-1]\n",
    "\n",
    "    if isinstance(dltile, dict):\n",
    "        dltile, tilekey = dltile, dltile[\"properties\"][\"key\"]\n",
    "    elif isinstance(dltile, str):\n",
    "        dltile, tilekey = dl.raster.dltile(dltile), dltile\n",
    "    else:\n",
    "        raise ValueError\n",
    "\n",
    "    present_year = dt.datetime.now().year\n",
    "    if not (2008 <= year < present_year):\n",
    "        raise ValueError(\"We do not have CONUS-wide CDL before 2008\")\n",
    "\n",
    "    if False:\n",
    "        ids = dl.metadata.ids(\n",
    "            products=[\"usda:cdl:v1\"],\n",
    "            dltile=dltile,\n",
    "            start_time=\"%i-01-01\" % year,\n",
    "            end_time=\"%i-01-01\" % (year + 1),\n",
    "        )\n",
    "    else:\n",
    "        # Avoid call to dl.metadata\n",
    "        ids = [\"usda:cdl:v1:meta_%i_30m_cdls_v1\" % year]\n",
    "\n",
    "    if len(ids) == 0:\n",
    "        raise ValueError(\"CDL does not cover dltile %s for year %i\" % (tilekey, year))\n",
    "\n",
    "    try:\n",
    "        array, _ = dl.raster.ndarray(ids, dltile=dltile)\n",
    "    except Exception as error:\n",
    "        print(\"ids:\", ids)\n",
    "        print(\"dltile:\", tilekey)\n",
    "        raise error\n",
    "\n",
    "    # Set non-requested labels > 0 to 255 (other)\n",
    "    other = np.in1d(array, np.array(labels), invert=True).reshape(array.shape)\n",
    "    valid = array > 0\n",
    "    array[other & valid] = 255\n",
    "\n",
    "    return array"
   ]
  },
  {
   "cell_type": "code",
   "execution_count": 16,
   "id": "8a34fd5c",
   "metadata": {},
   "outputs": [
    {
     "ename": "ValueError",
     "evalue": "",
     "output_type": "error",
     "traceback": [
      "\u001b[0;31m---------------------------------------------------------------------------\u001b[0m",
      "\u001b[0;31mValueError\u001b[0m                                Traceback (most recent call last)",
      "\u001b[0;32m<ipython-input-16-2a4a7c3b2bc9>\u001b[0m in \u001b[0;36m<module>\u001b[0;34m\u001b[0m\n\u001b[0;32m----> 1\u001b[0;31m \u001b[0mget_cdl\u001b[0m\u001b[0;34m(\u001b[0m\u001b[0mtile\u001b[0m\u001b[0;34m,\u001b[0m \u001b[0;36m2020\u001b[0m\u001b[0;34m,\u001b[0m \u001b[0mrange\u001b[0m\u001b[0;34m(\u001b[0m\u001b[0;36m1\u001b[0m\u001b[0;34m,\u001b[0m\u001b[0;36m255\u001b[0m\u001b[0;34m)\u001b[0m\u001b[0;34m)\u001b[0m\u001b[0;34m\u001b[0m\u001b[0;34m\u001b[0m\u001b[0m\n\u001b[0m",
      "\u001b[0;32m<ipython-input-14-da4d85e1956d>\u001b[0m in \u001b[0;36mget_cdl\u001b[0;34m(dltile, year, labels)\u001b[0m\n\u001b[1;32m      9\u001b[0m         \u001b[0mdltile\u001b[0m\u001b[0;34m,\u001b[0m \u001b[0mtilekey\u001b[0m \u001b[0;34m=\u001b[0m \u001b[0mdl\u001b[0m\u001b[0;34m.\u001b[0m\u001b[0mraster\u001b[0m\u001b[0;34m.\u001b[0m\u001b[0mdltile\u001b[0m\u001b[0;34m(\u001b[0m\u001b[0mdltile\u001b[0m\u001b[0;34m)\u001b[0m\u001b[0;34m,\u001b[0m \u001b[0mdltile\u001b[0m\u001b[0;34m\u001b[0m\u001b[0;34m\u001b[0m\u001b[0m\n\u001b[1;32m     10\u001b[0m     \u001b[0;32melse\u001b[0m\u001b[0;34m:\u001b[0m\u001b[0;34m\u001b[0m\u001b[0;34m\u001b[0m\u001b[0m\n\u001b[0;32m---> 11\u001b[0;31m         \u001b[0;32mraise\u001b[0m \u001b[0mValueError\u001b[0m\u001b[0;34m\u001b[0m\u001b[0;34m\u001b[0m\u001b[0m\n\u001b[0m\u001b[1;32m     12\u001b[0m \u001b[0;34m\u001b[0m\u001b[0m\n\u001b[1;32m     13\u001b[0m     \u001b[0mpresent_year\u001b[0m \u001b[0;34m=\u001b[0m \u001b[0mdt\u001b[0m\u001b[0;34m.\u001b[0m\u001b[0mdatetime\u001b[0m\u001b[0;34m.\u001b[0m\u001b[0mnow\u001b[0m\u001b[0;34m(\u001b[0m\u001b[0;34m)\u001b[0m\u001b[0;34m.\u001b[0m\u001b[0myear\u001b[0m\u001b[0;34m\u001b[0m\u001b[0;34m\u001b[0m\u001b[0m\n",
      "\u001b[0;31mValueError\u001b[0m: "
     ]
    }
   ],
   "source": [
    "get_cdl(tile, 2020, range(1,255))"
   ]
  },
  {
   "cell_type": "code",
   "execution_count": null,
   "id": "e8ab59c3",
   "metadata": {},
   "outputs": [],
   "source": []
  }
 ],
 "metadata": {
  "kernelspec": {
   "display_name": "Python 3",
   "language": "python",
   "name": "python3"
  },
  "language_info": {
   "codemirror_mode": {
    "name": "ipython",
    "version": 3
   },
   "file_extension": ".py",
   "mimetype": "text/x-python",
   "name": "python",
   "nbconvert_exporter": "python",
   "pygments_lexer": "ipython3",
   "version": "3.7.10"
  }
 },
 "nbformat": 4,
 "nbformat_minor": 5
}
