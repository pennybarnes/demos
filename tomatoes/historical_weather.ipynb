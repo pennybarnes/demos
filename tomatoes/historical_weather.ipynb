{
 "cells": [
  {
   "cell_type": "code",
   "execution_count": 1,
   "id": "9f801dad",
   "metadata": {},
   "outputs": [],
   "source": [
    "import logging\n",
    "logging.getLogger().setLevel(logging.INFO)\n",
    "logging.captureWarnings(True)\n",
    "\n",
    "import json\n",
    "import pkg_resources\n",
    "\n",
    "import numpy as np\n",
    "\n",
    "import descarteslabs as dl\n",
    "from descarteslabs import workflows as wf\n",
    "from tqdm.notebook import tqdm\n",
    "import pandas as pd\n",
    "from shapely import geometry as sgeom\n",
    "from IPython import display as dsp\n",
    "import shapely.geometry as sg\n",
    "import will_utils as utils\n",
    "import geojson"
   ]
  },
  {
   "cell_type": "code",
   "execution_count": 2,
   "id": "c666d77b",
   "metadata": {},
   "outputs": [
    {
     "data": {
      "application/geo+json": {
       "geometry": {
        "coordinates": [
         [
          [
           -121.693765,
           38.423061
          ],
          [
           -121.694677,
           38.527054
          ],
          [
           -121.712034,
           38.537962
          ],
          [
           -121.785806,
           38.523074
          ],
          [
           -121.86012,
           38.538512
          ],
          [
           -121.941072,
           38.533257
          ],
          [
           -122.013542,
           38.48871
          ],
          [
           -122.057415,
           38.517441
          ],
          [
           -122.103281,
           38.513348
          ],
          [
           -122.139388,
           38.609169
          ],
          [
           -122.151468,
           38.625249
          ],
          [
           -122.168349,
           38.619297
          ],
          [
           -122.167117,
           38.653664
          ],
          [
           -122.224206,
           38.699984
          ],
          [
           -122.287998,
           38.839931
          ],
          [
           -122.371552,
           38.844651
          ],
          [
           -122.421904,
           38.90377
          ],
          [
           -122.404032,
           38.925289
          ],
          [
           -121.805525,
           38.915065
          ],
          [
           -121.815126,
           38.91081
          ],
          [
           -121.791077,
           38.903323
          ],
          [
           -121.815203,
           38.877082
          ],
          [
           -121.783881,
           38.856445
          ],
          [
           -121.748624,
           38.871318
          ],
          [
           -121.72957,
           38.858427
          ],
          [
           -121.723346,
           38.803759
          ],
          [
           -121.690671,
           38.795627
          ],
          [
           -121.692562,
           38.76771
          ],
          [
           -121.670018,
           38.75931
          ],
          [
           -121.673674,
           38.743167
          ],
          [
           -121.658194,
           38.754922
          ],
          [
           -121.663957,
           38.768156
          ],
          [
           -121.634832,
           38.766912
          ],
          [
           -121.627965,
           38.784893
          ],
          [
           -121.599838,
           38.774876
          ],
          [
           -121.593406,
           38.753985
          ],
          [
           -121.631134,
           38.679012
          ],
          [
           -121.594069,
           38.644106
          ],
          [
           -121.566868,
           38.645104
          ],
          [
           -121.549869,
           38.599405
          ],
          [
           -121.507402,
           38.592
          ],
          [
           -121.520965,
           38.566205
          ],
          [
           -121.512618,
           38.541666
          ],
          [
           -121.559167,
           38.498007
          ],
          [
           -121.538766,
           38.474707
          ],
          [
           -121.504139,
           38.466563
          ],
          [
           -121.503847,
           38.439614
          ],
          [
           -121.5326,
           38.43146
          ],
          [
           -121.513257,
           38.398822
          ],
          [
           -121.521641,
           38.360104
          ],
          [
           -121.583954,
           38.331652
          ],
          [
           -121.593273,
           38.313089
          ],
          [
           -121.693697,
           38.313732
          ],
          [
           -121.693765,
           38.423061
          ]
         ]
        ],
        "type": "Polygon"
       },
       "properties": {},
       "type": "Feature"
      },
      "text/plain": [
       "<IPython.display.GeoJSON object>"
      ]
     },
     "metadata": {
      "application/geo+json": {
       "expanded": false,
       "root": "root"
      }
     },
     "output_type": "display_data"
    }
   ],
   "source": [
    "# Get shape of Yolo county in California\n",
    "places_client = dl.Places()\n",
    "state = places_client.shape(\"north-america_united-states_california_sacramento-valley_yolo\")\n",
    "\n",
    "# Define Workflows GeoContext\n",
    "geoctx = dl.scenes.AOI(sg.shape(state.geometry).simplify(0.01),\n",
    "                       crs=\"EPSG:4326\", resolution=0.01)\n",
    "\n",
    "# Display on a map:\n",
    "dsp.GeoJSON(geojson.Feature(geometry=geoctx.geometry))"
   ]
  },
  {
   "cell_type": "markdown",
   "id": "99a0d5a8",
   "metadata": {},
   "source": [
    "Here we start to define the workflow. We will use Sentinel-2 imagery which has a resolution of 10 meters. In this next block of code, comments have been added before each step explaining what is happening in more detail."
   ]
  },
  {
   "cell_type": "markdown",
   "id": "7e3b3645",
   "metadata": {},
   "source": [
    "### Weather"
   ]
  },
  {
   "cell_type": "markdown",
   "id": "99618543",
   "metadata": {},
   "source": [
    "In this section we are calculating the Growing Degree Days, Precipitation, and Soil Moisture content in a daily intervals for the entire year. We define a basic workflow object below and then expand on it for each of the layers we are going to compute."
   ]
  },
  {
   "cell_type": "code",
   "execution_count": 3,
   "id": "920bfbf9",
   "metadata": {},
   "outputs": [],
   "source": [
    "start_datetime='2018-01-01'\n",
    "end_datetime='2021-10-01'\n",
    "\n",
    "ncepflow = wf.ImageCollection.from_id('ncep:cfsr-v2:daily:v1', \n",
    "                                       start_datetime=start_datetime, \n",
    "                                       end_datetime=end_datetime)"
   ]
  },
  {
   "cell_type": "markdown",
   "id": "8b77f68f",
   "metadata": {},
   "source": [
    "#### Growing Degree Days"
   ]
  },
  {
   "cell_type": "code",
   "execution_count": 4,
   "id": "02b59f6b",
   "metadata": {},
   "outputs": [],
   "source": [
    "# https://en.wikipedia.org/wiki/Growing_degree-day#GDD_calculation\n",
    "# NCEP data is in 0.01 K\n",
    "tmin, tmax =  ncepflow.unpack_bands('tmin tmax')\n",
    "\n",
    "#convert 50 degrees to kelvin and then add it to 283\n",
    "gdd_base = 283.\n",
    "gdd = (((tmax + tmin) / (2*100)) - gdd_base).clip_values(min=0.)\n",
    "gdd_ts = gdd.map(lambda img: wf.Dict[wf.Datetime, wf.Float].from_pairs([(img.properties['date'], img.median('pixels')['tmax_add_tmin'])]))"
   ]
  },
  {
   "cell_type": "code",
   "execution_count": 5,
   "id": "2252f59f",
   "metadata": {},
   "outputs": [
    {
     "name": "stdout",
     "output_type": "stream",
     "text": [
      "\n",
      "Job ID: 75ea457c28bddaf41c50bcc1456e9cf43f6d017bd92417ea\n",
      "[######] | Steps: 8202/8202 | Stage: SUCCEEDED                                "
     ]
    }
   ],
   "source": [
    "gdd_res = gdd_ts.compute(geoctx)"
   ]
  },
  {
   "cell_type": "code",
   "execution_count": 6,
   "id": "1c7daa37",
   "metadata": {},
   "outputs": [],
   "source": [
    "gdd_dates = []\n",
    "gdd_vals = []\n",
    "for res in gdd_res:\n",
    "    key = list(res.keys())[0]\n",
    "    gdd_dates.append(pd.to_datetime(key.split('T')[0], format='%Y-%m-%d'))\n",
    "    gdd_vals.append(res[key])"
   ]
  },
  {
   "cell_type": "code",
   "execution_count": 7,
   "id": "cbbcc40b",
   "metadata": {},
   "outputs": [],
   "source": [
    "# Save these lists to text files for further processing\n",
    "with open('texts/pres_gdd_dates.txt', 'w') as f:\n",
    "    for item in gdd_dates:\n",
    "        f.write(\"%s\\n\" % item)\n",
    "\n",
    "with open('texts/pres_gdd_vals.txt', 'w') as f:\n",
    "    for item in gdd_vals:\n",
    "        f.write(\"%s\\n\" % item)"
   ]
  },
  {
   "cell_type": "markdown",
   "id": "c7a96e92",
   "metadata": {},
   "source": [
    "#### Precipitation"
   ]
  },
  {
   "cell_type": "code",
   "execution_count": 8,
   "id": "b30849b9",
   "metadata": {},
   "outputs": [],
   "source": [
    "precip = ncepflow.pick_bands('prec')\n",
    "precip_ts = precip.map(lambda img: wf.Dict[wf.Datetime, wf.Float].from_pairs([(img.properties['date'], img.max('pixels')['prec'])]))"
   ]
  },
  {
   "cell_type": "code",
   "execution_count": 9,
   "id": "2fea3e09",
   "metadata": {},
   "outputs": [
    {
     "name": "stdout",
     "output_type": "stream",
     "text": [
      "\n",
      "Job ID: bf93ec721b9a1e0d5059fa113e5b05dc3bbd034a10c98f25\n",
      "[######] | Steps: 5468/5468 | Stage: SUCCEEDED                                "
     ]
    }
   ],
   "source": [
    "precip_res = precip_ts.compute(geoctx)"
   ]
  },
  {
   "cell_type": "code",
   "execution_count": 10,
   "id": "8a15a779",
   "metadata": {},
   "outputs": [],
   "source": [
    "precip_dates = []\n",
    "precip_vals = []\n",
    "for res in precip_res:\n",
    "    key = list(res.keys())[0]\n",
    "    precip_dates.append(pd.to_datetime(key.split('T')[0], format='%Y-%m-%d'))\n",
    "    precip_vals.append(res[key] * 0.1)"
   ]
  },
  {
   "cell_type": "code",
   "execution_count": 11,
   "id": "d832a60e",
   "metadata": {},
   "outputs": [],
   "source": [
    "# Save these lists to text files for further processing\n",
    "with open('texts/pres_precip_dates.txt', 'w') as f:\n",
    "    for item in precip_dates:\n",
    "        f.write(\"%s\\n\" % item)\n",
    "\n",
    "with open('texts/pres_precip_vals.txt', 'w') as f:\n",
    "    for item in precip_vals:\n",
    "        f.write(\"%s\\n\" % item)"
   ]
  },
  {
   "cell_type": "markdown",
   "id": "f706e5fa",
   "metadata": {},
   "source": [
    "#### Soil Moisture"
   ]
  },
  {
   "cell_type": "code",
   "execution_count": 12,
   "id": "c66af5a1",
   "metadata": {},
   "outputs": [],
   "source": [
    "soil_moisture = ncepflow.pick_bands('soilmoist2')\n",
    "soil_moisture_ts = soil_moisture.map(lambda img: wf.Dict[wf.Datetime, wf.Float].from_pairs([(img.properties['date'], img.median('pixels')['soilmoist2'])]))"
   ]
  },
  {
   "cell_type": "code",
   "execution_count": 13,
   "id": "ef1a1970",
   "metadata": {},
   "outputs": [
    {
     "name": "stdout",
     "output_type": "stream",
     "text": [
      "\n",
      "Job ID: ee3ee6f8c1fd5a3c0a021d1ee5539d8480a19ab4437e6293\n",
      "[######] | Steps: 5468/5468 | Stage: SUCCEEDED                                "
     ]
    }
   ],
   "source": [
    "soil_res = soil_moisture_ts.compute(geoctx)"
   ]
  },
  {
   "cell_type": "code",
   "execution_count": 14,
   "id": "e7b3bad9",
   "metadata": {},
   "outputs": [],
   "source": [
    "soil_dates = []\n",
    "soil_vals = []\n",
    "for res in soil_res:\n",
    "    key = list(res.keys())[0]\n",
    "    soil_dates.append(pd.to_datetime(key.split('T')[0], format='%Y-%m-%d'))\n",
    "    soil_vals.append(res[key] * 0.01)"
   ]
  },
  {
   "cell_type": "code",
   "execution_count": 15,
   "id": "c525fdff",
   "metadata": {},
   "outputs": [],
   "source": [
    "# Save these lists to text files for further processing\n",
    "with open('texts/pres_soil_dates.txt', 'w') as f:\n",
    "    for item in soil_dates:\n",
    "        f.write(\"%s\\n\" % item)\n",
    "\n",
    "with open('texts/pres_soil_vals.txt', 'w') as f:\n",
    "    for item in soil_vals:\n",
    "        f.write(\"%s\\n\" % item)"
   ]
  },
  {
   "cell_type": "markdown",
   "id": "3705ef41",
   "metadata": {},
   "source": [
    "Now lets plot the results"
   ]
  },
  {
   "cell_type": "code",
   "execution_count": null,
   "id": "2a55dfd6",
   "metadata": {},
   "outputs": [],
   "source": []
  },
  {
   "cell_type": "code",
   "execution_count": null,
   "id": "5e898401",
   "metadata": {},
   "outputs": [],
   "source": [
    "ylabs = ['NDVI', 'GDDs', 'Precipitation (mm)', 'Soil Moisture (%)']\n",
    "\n",
    "fig, axs = plt.subplots(4, 1, figsize=(14, 10), sharex=True)\n",
    "#axs[0].plot(group_dates, ndvi_vals)\n",
    "axs[1].plot(gdd_dates, gdd_vals)\n",
    "axs[2].plot(precip_dates, precip_vals)\n",
    "axs[3].plot(soil_dates, soil_vals)\n",
    "\n",
    "for (ax, lab) in zip(axs, ylabs):\n",
    "    ax.set_ylabel(lab, size=13)\n",
    "    ax.tick_params('both', labelsize=12)\n",
    "\n",
    "axs[-1].set_xlabel('Date', size=13)"
   ]
  },
  {
   "cell_type": "code",
   "execution_count": null,
   "id": "e1d71c42",
   "metadata": {},
   "outputs": [],
   "source": []
  }
 ],
 "metadata": {
  "kernelspec": {
   "display_name": "Python 3",
   "language": "python",
   "name": "python3"
  },
  "language_info": {
   "codemirror_mode": {
    "name": "ipython",
    "version": 3
   },
   "file_extension": ".py",
   "mimetype": "text/x-python",
   "name": "python",
   "nbconvert_exporter": "python",
   "pygments_lexer": "ipython3",
   "version": "3.7.10"
  }
 },
 "nbformat": 4,
 "nbformat_minor": 5
}
