{
 "cells": [
  {
   "cell_type": "code",
   "execution_count": 1,
   "id": "b446d8e4",
   "metadata": {},
   "outputs": [
    {
     "name": "stderr",
     "output_type": "stream",
     "text": [
      "/opt/conda/lib/python3.7/site-packages/descarteslabs/common/workflows/arrow_serialization/context.py:57: FutureWarning: 'pyarrow.SerializationContext' is deprecated and will be removed in a future version. Use pickle or the pyarrow IPC functionality instead.\n",
      "  serialization_context = pa.SerializationContext()\n",
      "/opt/conda/lib/python3.7/site-packages/descarteslabs/common/workflows/arrow_serialization/context.py:58: FutureWarning: 'pyarrow.register_default_serialization_handlers' is deprecated as of 2.0.0 and will be removed in a future version. Use pickle or the pyarrow IPC functionality instead.\n",
      "  pa.register_default_serialization_handlers(serialization_context)\n"
     ]
    }
   ],
   "source": [
    "from descarteslabs import workflows as wf\n",
    "import ipyleaflet\n",
    "import ipywidgets\n",
    "import matplotlib.pyplot as plt\n",
    "import descarteslabs as dl\n",
    "import descarteslabs.workflows as wf\n",
    "from shapely import geometry as sgeom\n",
    "import logging\n",
    "import will_utils as utils\n",
    "import pandas as pd\n",
    "logging.basicConfig(level=logging.ERROR)"
   ]
  },
  {
   "cell_type": "code",
   "execution_count": 2,
   "id": "e47349e0",
   "metadata": {},
   "outputs": [],
   "source": [
    "import geopandas as gpd"
   ]
  },
  {
   "cell_type": "code",
   "execution_count": 3,
   "id": "a837994f",
   "metadata": {},
   "outputs": [],
   "source": [
    "#import yolo country\n",
    "tomato_aoi = gpd.read_file('yolo_county.geojson')\n",
    "aoi = {'year': [2018, 2019,2020], 'acres tomato': [246, 290,382]}\n",
    "acreage_out = pd.DataFrame(aoi)"
   ]
  },
  {
   "cell_type": "code",
   "execution_count": 4,
   "id": "c727211d",
   "metadata": {},
   "outputs": [],
   "source": [
    "s2_A = wf.ImageCollection.from_id('sentinel-2:L1C',\n",
    "                                   start_datetime='2019-08-01',\n",
    "                                   end_datetime='2019-08-31', processing_level=\"surface\"\n",
    "                                   ).pick_bands('red green blue cloud-mask')\n",
    "\n",
    "s2_B = wf.ImageCollection.from_id('sentinel-2:L1C',\n",
    "                                   start_datetime='2018-08-01',\n",
    "                                   end_datetime='2018-08-31',  processing_level=\"surface\"\n",
    "                                   ).pick_bands('red green blue cloud-mask')\n",
    "\n",
    "s2_C = wf.ImageCollection.from_id('sentinel-2:L1C',\n",
    "                                   start_datetime='2017-08-01',\n",
    "                                   end_datetime='2017-08-31',  processing_level=\"surface\"\n",
    "                                   ).pick_bands('red green blue cloud-mask')\n",
    "\n",
    "s2_D = wf.ImageCollection.from_id('sentinel-2:L1C',\n",
    "                                   start_datetime='2020-07-01',\n",
    "                                   end_datetime='2020-07-31',  processing_level=\"surface\"\n",
    "                                   ).pick_bands('red green blue').mosaic()\n",
    "\n",
    "\n",
    "cmaskA = s2_A.pick_bands(\"cloud-mask\") > 0\n",
    "cmaskB = s2_B.pick_bands(\"cloud-mask\") > 0 \n",
    "cmaskC = s2_C.pick_bands(\"cloud-mask\") > 0 \n",
    "cmaskD = s2_D.pick_bands(\"cloud-mask\") > 0\n",
    "\n",
    "#Okay at this point I should obviously have used an iterable\n",
    "s2_A = s2_A.mask(cmaskA).pick_bands('red green blue')\n",
    "s2_B = s2_B.mask(cmaskB).pick_bands('red green blue')\n",
    "s2_C = s2_C.mask(cmaskC).pick_bands('red green blue')\n",
    "s2_D = s2_D.mask(cmaskD).pick_bands('red green blue')"
   ]
  },
  {
   "cell_type": "code",
   "execution_count": 5,
   "id": "79bee278",
   "metadata": {},
   "outputs": [],
   "source": [
    "product_id = \"sentinel-1:sar:sigma0v:v1\"\n",
    "\n",
    "# Define simag0 image Collection\n",
    "sigA = (wf.ImageCollection.from_id(product_id, start_datetime='2019-07-01', end_datetime='2019-07-31',).pick_bands(\"vv vh\"))\n",
    "sigB = (wf.ImageCollection.from_id(product_id, start_datetime='2018-07-01', end_datetime='2018-07-31',).pick_bands(\"vv vh\"))\n",
    "sigC = (wf.ImageCollection.from_id(product_id, start_datetime='2017-07-01', end_datetime='2017-07-31',).pick_bands(\"vv vh\"))\n",
    "sigD = (wf.ImageCollection.from_id(product_id, start_datetime='2021-01-01', end_datetime='2021-01-31',).pick_bands(\"vv vh\"))\n"
   ]
  },
  {
   "cell_type": "code",
   "execution_count": 6,
   "id": "73ee944e",
   "metadata": {},
   "outputs": [],
   "source": [
    "# Various CDLs\n",
    "cdl_2020 = wf.ImageCollection.from_id(\"usda:cdl:v1\", start_datetime=\"2019-12-31\", end_datetime=\"2020-01-01\").mosaic()\n",
    "cdl_2019 = wf.ImageCollection.from_id(\"usda:cdl:v1\", start_datetime=\"2018-12-31\", end_datetime=\"2019-01-01\").mosaic()\n",
    "cdl_2018 = wf.ImageCollection.from_id(\"usda:cdl:v1\", start_datetime=\"2017-12-31\", end_datetime=\"2018-01-01\").mosaic()\n",
    "\n",
    "cdl_2020 = cdl_2020.mask(cdl_2020 != 54)\n",
    "cdl_2019 = cdl_2019.mask(cdl_2019 != 54)\n",
    "cdl_2018 = cdl_2018.mask(cdl_2018 != 54)"
   ]
  },
  {
   "cell_type": "code",
   "execution_count": 7,
   "id": "c90f968c",
   "metadata": {},
   "outputs": [],
   "source": [
    "# Create the map\n",
    "m1 = None\n",
    "m1 = wf.interactive.MapApp()\n",
    "m1.center = (38.7751, -121.7282) #\n",
    "m1.zoom = 13\n",
    "m1.control_other_layers = True\n",
    "#m1.map.layout.height = \"600px\""
   ]
  },
  {
   "cell_type": "code",
   "execution_count": 8,
   "id": "44042a4e",
   "metadata": {},
   "outputs": [],
   "source": [
    "m1.clear_layers()\n",
    "#Add my vector layer\n",
    "yolo = ipyleaflet.GeoData(\n",
    "    geo_dataframe = tomato_aoi,\n",
    "    style={\"color\": \"blue\", \"fillOpacity\":0.},\n",
    "    name=\"Yolo County\",\n",
    ")\n",
    "m1.add_layer(yolo)"
   ]
  },
  {
   "cell_type": "code",
   "execution_count": 9,
   "id": "70d4e379",
   "metadata": {},
   "outputs": [],
   "source": [
    "## Sentinel 2\n",
    "#s2_D.visualize(name=\"Sentinel 2, July 2021\", map=m1, scales=[[0,0.5], [0,0.5], [0,0.5]], checkerboard=False)\n",
    "\n",
    "\n",
    "s2_A.visualize(name=\"Sentinel 2, July 2020\", map=m1, scales=[[0,0.5], [0,0.5], [0,0.5]], checkerboard=False)\n",
    "s2_B.visualize(name=\"Sentinel 2, July 2019\", map=m1, scales=[[0,0.5], [0,0.5], [0,0.5]], checkerboard=False)\n",
    "#s2_C.visualize(name=\"Sentinel 2, July 2018\", map=m1, scales=[[0,0.5], [0,0.5], [0,0.5]], checkerboard=False)\n",
    "\n"
   ]
  },
  {
   "cell_type": "code",
   "execution_count": 10,
   "id": "37293964",
   "metadata": {},
   "outputs": [],
   "source": [
    "# Sentinel 1\n",
    "sigA.pick_bands(\"vv vh vv\").visualize(\"Sentinel 1, July 2020\", scales=[[-30,30],[-30,30],[-30,30]], map=m1)\n",
    "sigB.pick_bands(\"vv vh vv\").visualize(\"Sentinel 1, July 2019\", scales=[[-30,30],[-30,30],[-30,30]], map=m1)\n",
    "#sigC.pick_bands(\"vv vh vv\").visualize(\"Sentinel 1, July 2018\", scales=[[-30,30],[-30,30],[-30,30]], map=m1)\n",
    "#sigD.pick_bands(\"vv vh vv\").visualize(\"Sentinel 1, July 2021\", scales=[[-30,30],[-30,30],[-30,30]], map=m1)"
   ]
  },
  {
   "cell_type": "code",
   "execution_count": 11,
   "id": "34dd7714",
   "metadata": {},
   "outputs": [],
   "source": [
    "## Add my raster layers\n",
    "## CDL\n",
    "cdl_2020.visualize(name=\"2020 CDL Tomatoes\", colormap='Greens', checkerboard=False, map=m1)\n",
    "cdl_2019.visualize(name=\"2019 CDL Tomatoes\", colormap='Purples', checkerboard=False, map=m1)\n",
    "cdl_2018.visualize(name=\"2018 CDL Tomatoes\", colormap='Reds', checkerboard=False, map=m1)\n",
    "\n"
   ]
  },
  {
   "cell_type": "code",
   "execution_count": 12,
   "id": "59ed5504",
   "metadata": {},
   "outputs": [
    {
     "data": {
      "text/plain": [
       "<acreage.acreage at 0x7fd14c09b390>"
      ]
     },
     "execution_count": 12,
     "metadata": {},
     "output_type": "execute_result"
    }
   ],
   "source": [
    "from acreage import acreage\n",
    "\n",
    "acreage(m1)"
   ]
  },
  {
   "cell_type": "code",
   "execution_count": 13,
   "id": "f080bef4",
   "metadata": {},
   "outputs": [
    {
     "data": {
      "application/vnd.jupyter.widget-view+json": {
       "model_id": "97bcdd59cf684bbdbe4289bc32b4601e",
       "version_major": 2,
       "version_minor": 0
      },
      "text/plain": [
       "\n",
       "`ipyleaflet` and/or `ipywidgets` Jupyter extensions are not installed! (or you're not in a Jupyter notebook.)\n",
       "To install for JupyterLab, run this in a cell:\n",
       "    !jupyter labextension install jupyter-leaflet @jupyter-widgets/jupyterlab-manager\n",
       "To install for plain Jupyter Notebook, run this in a cell:\n",
       "    !jupyter nbextension enable --py --sys-prefix ipyleaflet\n",
       "Then, restart the kernel and refresh the webpage.\n"
      ]
     },
     "metadata": {},
     "output_type": "display_data"
    }
   ],
   "source": [
    "\n",
    "m1"
   ]
  },
  {
   "cell_type": "code",
   "execution_count": 14,
   "id": "4ab0818b",
   "metadata": {},
   "outputs": [
    {
     "data": {
      "text/html": [
       "<div>\n",
       "<style scoped>\n",
       "    .dataframe tbody tr th:only-of-type {\n",
       "        vertical-align: middle;\n",
       "    }\n",
       "\n",
       "    .dataframe tbody tr th {\n",
       "        vertical-align: top;\n",
       "    }\n",
       "\n",
       "    .dataframe thead th {\n",
       "        text-align: right;\n",
       "    }\n",
       "</style>\n",
       "<table border=\"1\" class=\"dataframe\">\n",
       "  <thead>\n",
       "    <tr style=\"text-align: right;\">\n",
       "      <th></th>\n",
       "      <th>year</th>\n",
       "      <th>acres tomato</th>\n",
       "    </tr>\n",
       "  </thead>\n",
       "  <tbody>\n",
       "    <tr>\n",
       "      <th>0</th>\n",
       "      <td>2018</td>\n",
       "      <td>246</td>\n",
       "    </tr>\n",
       "    <tr>\n",
       "      <th>1</th>\n",
       "      <td>2019</td>\n",
       "      <td>290</td>\n",
       "    </tr>\n",
       "    <tr>\n",
       "      <th>2</th>\n",
       "      <td>2020</td>\n",
       "      <td>382</td>\n",
       "    </tr>\n",
       "  </tbody>\n",
       "</table>\n",
       "</div>"
      ],
      "text/plain": [
       "   year  acres tomato\n",
       "0  2018           246\n",
       "1  2019           290\n",
       "2  2020           382"
      ]
     },
     "metadata": {},
     "output_type": "display_data"
    }
   ],
   "source": [
    "## Print the AOI \n",
    "display(acreage_out)"
   ]
  },
  {
   "cell_type": "code",
   "execution_count": null,
   "id": "d4403b2b",
   "metadata": {},
   "outputs": [],
   "source": []
  }
 ],
 "metadata": {
  "kernelspec": {
   "display_name": "Python 3",
   "language": "python",
   "name": "python3"
  },
  "language_info": {
   "codemirror_mode": {
    "name": "ipython",
    "version": 3
   },
   "file_extension": ".py",
   "mimetype": "text/x-python",
   "name": "python",
   "nbconvert_exporter": "python",
   "pygments_lexer": "ipython3",
   "version": "3.7.10"
  }
 },
 "nbformat": 4,
 "nbformat_minor": 5
}
