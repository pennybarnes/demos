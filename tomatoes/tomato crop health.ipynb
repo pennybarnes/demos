{
 "cells": [
  {
   "cell_type": "markdown",
   "metadata": {},
   "source": [
    "# Field-level NDVI Time Series\n",
    "In this notebook we will use Descartes Labs `Workflows` to build an interactive map to **query the time series of vegetative health for any field in the world**.  The field boundary is drawn by the user, and the NDVI time series from Sentinel-2 is returned.  This allows the user to assess **field-level vegetative health** or determine **crop planting patterns such as winter cover crops** in an interactive, visual way.\n",
    "\n",
    "You can run the following cells using `Shift-Enter`."
   ]
  },
  {
   "cell_type": "markdown",
   "metadata": {},
   "source": [
    "## Import packages"
   ]
  },
  {
   "cell_type": "code",
   "execution_count": 1,
   "metadata": {},
   "outputs": [],
   "source": [
    "# keep logging quiet\n",
    "import logging\n",
    "\n",
    "logging.getLogger().setLevel(logging.INFO)\n",
    "logging.captureWarnings(True)"
   ]
  },
  {
   "cell_type": "code",
   "execution_count": 2,
   "metadata": {},
   "outputs": [],
   "source": [
    "# import packages\n",
    "import descarteslabs.workflows as wf\n",
    "\n",
    "#Integrating multiple flows means multiple utils\n",
    "from field_ndvi_utils import FieldNDVI\n",
    "import utils"
   ]
  },
  {
   "cell_type": "code",
   "execution_count": 3,
   "metadata": {},
   "outputs": [
    {
     "ename": "ModuleNotFoundError",
     "evalue": "No module named 'dl_weather'",
     "output_type": "error",
     "traceback": [
      "\u001b[0;31m---------------------------------------------------------------------------\u001b[0m",
      "\u001b[0;31mModuleNotFoundError\u001b[0m                       Traceback (most recent call last)",
      "\u001b[0;32m<ipython-input-3-d2136d10ad46>\u001b[0m in \u001b[0;36m<module>\u001b[0;34m\u001b[0m\n\u001b[0;32m----> 1\u001b[0;31m \u001b[0;32mimport\u001b[0m \u001b[0mdl_weather\u001b[0m\u001b[0;34m\u001b[0m\u001b[0;34m\u001b[0m\u001b[0m\n\u001b[0m\u001b[1;32m      2\u001b[0m \u001b[0;34m\u001b[0m\u001b[0m\n\u001b[1;32m      3\u001b[0m \u001b[0;31m# For generating the geocontext:\u001b[0m\u001b[0;34m\u001b[0m\u001b[0;34m\u001b[0m\u001b[0;34m\u001b[0m\u001b[0m\n\u001b[1;32m      4\u001b[0m \u001b[0;32mfrom\u001b[0m \u001b[0mIPython\u001b[0m \u001b[0;32mimport\u001b[0m \u001b[0mdisplay\u001b[0m \u001b[0;32mas\u001b[0m \u001b[0mdsp\u001b[0m\u001b[0;34m\u001b[0m\u001b[0;34m\u001b[0m\u001b[0m\n\u001b[1;32m      5\u001b[0m \u001b[0;32mimport\u001b[0m \u001b[0mshapely\u001b[0m\u001b[0;34m.\u001b[0m\u001b[0mgeometry\u001b[0m \u001b[0;32mas\u001b[0m \u001b[0msg\u001b[0m\u001b[0;34m\u001b[0m\u001b[0;34m\u001b[0m\u001b[0m\n",
      "\u001b[0;31mModuleNotFoundError\u001b[0m: No module named 'dl_weather'"
     ]
    }
   ],
   "source": [
    "# import dl_weather\n",
    "\n",
    "# # For generating the geocontext:\n",
    "# from IPython import display as dsp\n",
    "# import shapely.geometry as sg\n",
    "# import descarteslabs as dl\n",
    "# import geojson\n",
    "# import numpy as np\n",
    "\n",
    "# # For plotting timeseries:\n",
    "# import matplotlib.pyplot as plt"
   ]
  },
  {
   "cell_type": "markdown",
   "metadata": {},
   "source": [
    "## Create a weather analysis geocontext - in this case, in California's Central Valley"
   ]
  },
  {
   "cell_type": "code",
   "execution_count": 4,
   "metadata": {},
   "outputs": [],
   "source": [
    "# wf.map.center = [ 38.7752, -121.7608 ] # This is my center of map\n",
    "# wf.map.zoom = 12\n",
    "\n",
    "# wf.map\n",
    "\n"
   ]
  },
  {
   "cell_type": "code",
   "execution_count": 5,
   "metadata": {},
   "outputs": [],
   "source": [
    "# bounds = np.array(wf.map.bounds).flatten()\n",
    "# bounds = [bounds[1], bounds[0], bounds[3], bounds[2]]\n",
    "# utm_code = utils.wgs_to_epsg(*wf.map.center)\n",
    "\n",
    "\n",
    "# ctx = wf.GeoContext(\n",
    "#     bounds=bounds,\n",
    "#     bounds_crs=\"EPSG:4326\",\n",
    "#     crs=f\"EPSG:{utm_code}\",\n",
    "#     resolution = 10.\n",
    "# )"
   ]
  },
  {
   "cell_type": "code",
   "execution_count": 6,
   "metadata": {},
   "outputs": [],
   "source": [
    "# %%time\n",
    "# ts = dl_weather.get_weather_time_series(weather_product=\"ecmwf:era5:v0\",\n",
    "#                                         weather_vars = [\"tp\",'100u'],\n",
    "#                                         weather_start = '2018-01-01',\n",
    "#                                         weather_end = '2018-02-01',\n",
    "#                                         frequency='daily',\n",
    "#                                         geoctx=ctx)\n",
    "# ts.head()"
   ]
  },
  {
   "cell_type": "code",
   "execution_count": 7,
   "metadata": {},
   "outputs": [],
   "source": [
    "# plt.figure(figsize=(8,6))\n",
    "# plt.subplot(2,1,1)\n",
    "# ts['tp'].plot(color='blue', label='Precipitation')\n",
    "# plt.grid('lightgray')\n",
    "# plt.legend()\n",
    "# plt.subplot(2,1,2) \n",
    "# ts['100u'].plot(color='orange', label='Zonal wind speed')\n",
    "# plt.grid('lightgray')\n",
    "# plt.legend()\n",
    "# plt.tight_layout()\n"
   ]
  },
  {
   "cell_type": "markdown",
   "metadata": {},
   "source": [
    "## Define the _Sentinel-2_ imagery that will display on the map"
   ]
  },
  {
   "cell_type": "code",
   "execution_count": 8,
   "metadata": {},
   "outputs": [],
   "source": [
    "s2 = wf.ImageCollection.from_id(\n",
    "    \"sentinel-2:L1C\", start_datetime=\"2021-03-01\", end_datetime=\"2021-07-01\"\n",
    ")\n",
    "\n",
    "s2 = s2.filter(lambda img: img.properties[\"cloud_fraction\"] <= 0.05)\n",
    "s2 = s2.pick_bands(\"nir red green\").median(axis=\"images\")\n",
    "s2.visualize(\n",
    "    \"Sentinel- NRG\", scales=[[0, 0.3], [0, 0.3], [0, 0.3]], checkerboard=False\n",
    ")"
   ]
  },
  {
   "cell_type": "markdown",
   "metadata": {},
   "source": [
    "And the USDA Cropland Data Layer\n"
   ]
  },
  {
   "cell_type": "code",
   "execution_count": 9,
   "metadata": {},
   "outputs": [],
   "source": [
    "cdl = wf.ImageCollection.from_id(\n",
    "    \"usda:cdl:v1\", start_datetime=\"2020-12-31\", end_datetime=\"2021-01-01\"\n",
    ")\n",
    "\n",
    "\n",
    "cdl.mask(cdl != 54).visualize('CDL Tomatoes',\n",
    "                             colormap='spring')\n",
    "cdl_mask = cdl.mosaic() != 54"
   ]
  },
  {
   "cell_type": "code",
   "execution_count": 10,
   "metadata": {},
   "outputs": [],
   "source": [
    "s2_new = s2.mask(cdl_mask).visualize(\n",
    "    \"Sentinel-2 mmasked\", scales=[[0, 0.3], [0, 0.3], [0, 0.3]], checkerboard=False\n",
    ")"
   ]
  },
  {
   "cell_type": "markdown",
   "metadata": {},
   "source": [
    "## Create the `FieldNDVI` object, a custom widget defined in `field_ndvi.py`\n",
    "This is the widget that will compute the NDVI time series of your field of interest.  The date range for this time series takes on a default value but can be adjusted once you make the map below."
   ]
  },
  {
   "cell_type": "code",
   "execution_count": 11,
   "metadata": {},
   "outputs": [],
   "source": [
    "ndvi_timeseries = FieldNDVI(wf.map)"
   ]
  },
  {
   "cell_type": "markdown",
   "metadata": {},
   "source": [
    "## Define the map center and zoom level.\n",
    "We choose a field in Iowa that appears to have a **winter cover crop** in early 2018 but not in early 2019."
   ]
  },
  {
   "cell_type": "code",
   "execution_count": 12,
   "metadata": {},
   "outputs": [],
   "source": [
    "wf.map.center =  36.334871, -120.227047  # Iowa\n",
    "wf.map.zoom = 12\n",
    "\n"
   ]
  },
  {
   "cell_type": "markdown",
   "metadata": {},
   "source": [
    "## Finally, display and interact with the map.\n",
    "Select the polygon draw tool on the left and draw a polygon over your field of interest.  This will trigger a comptutation on the Descartes Labs `Workflows` backend to compute the mean NDVI in this field, which will then display embedded in the map."
   ]
  },
  {
   "cell_type": "code",
   "execution_count": 13,
   "metadata": {},
   "outputs": [
    {
     "data": {
      "application/vnd.jupyter.widget-view+json": {
       "model_id": "28be1017aec54d2f9358262d958f4dee",
       "version_major": 2,
       "version_minor": 0
      },
      "text/plain": [
       "\n",
       "`ipyleaflet` and/or `ipywidgets` Jupyter extensions are not installed! (or you're not in a Jupyter notebook.)\n",
       "To install for JupyterLab, run this in a cell:\n",
       "    !jupyter labextension install jupyter-leaflet @jupyter-widgets/jupyterlab-manager\n",
       "To install for plain Jupyter Notebook, run this in a cell:\n",
       "    !jupyter nbextension enable --py --sys-prefix ipyleaflet\n",
       "Then, restart the kernel and refresh the webpage.\n"
      ]
     },
     "metadata": {},
     "output_type": "display_data"
    }
   ],
   "source": [
    "wf.map"
   ]
  },
  {
   "cell_type": "markdown",
   "metadata": {},
   "source": [
    "### If desired, return the NDVI time series as a pandas `dataframe`.\n",
    "You must first draw an AOI in the map above.  Then uncomment and run the line below."
   ]
  },
  {
   "cell_type": "code",
   "execution_count": null,
   "metadata": {},
   "outputs": [],
   "source": [
    "ndvi_timeseries.df"
   ]
  },
  {
   "cell_type": "code",
   "execution_count": null,
   "metadata": {},
   "outputs": [],
   "source": [
    "ndvi_timeseries.geoctx.bounds"
   ]
  },
  {
   "cell_type": "code",
   "execution_count": null,
   "metadata": {},
   "outputs": [],
   "source": []
  }
 ],
 "metadata": {
  "kernelspec": {
   "display_name": "Python 3",
   "language": "python",
   "name": "python3"
  },
  "language_info": {
   "codemirror_mode": {
    "name": "ipython",
    "version": 3
   },
   "file_extension": ".py",
   "mimetype": "text/x-python",
   "name": "python",
   "nbconvert_exporter": "python",
   "pygments_lexer": "ipython3",
   "version": "3.7.10"
  }
 },
 "nbformat": 4,
 "nbformat_minor": 4
}
