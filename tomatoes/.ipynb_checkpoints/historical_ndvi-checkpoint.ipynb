{
 "cells": [
  {
   "cell_type": "code",
   "execution_count": 1,
   "id": "89c82465",
   "metadata": {},
   "outputs": [],
   "source": [
    "import logging\n",
    "logging.getLogger().setLevel(logging.INFO)\n",
    "logging.captureWarnings(True)\n",
    "\n",
    "import json\n",
    "import pkg_resources\n",
    "\n",
    "import numpy as np\n",
    "import matplotlib.pyplot as plt\n",
    "import descarteslabs as dl\n",
    "from descarteslabs import workflows as wf\n",
    "from tqdm.notebook import tqdm\n",
    "import pandas as pd\n",
    "from shapely import geometry as sgeom\n",
    "\n",
    "import will_utils as utils"
   ]
  },
  {
   "cell_type": "markdown",
   "id": "eb9e64b1",
   "metadata": {},
   "source": [
    "### NDVI"
   ]
  },
  {
   "cell_type": "markdown",
   "id": "8c68e81d",
   "metadata": {},
   "source": [
    "In this section we are going to calculate the NDVI for an area of Brazil using workflows. We will employ workflows functionality that allows us to mask for clouds, create a daily composite of images, apply a moving window average of the images, and lastly deploy the NDVI workflow across a large AOI using workflows jobs."
   ]
  },
  {
   "cell_type": "code",
   "execution_count": 2,
   "id": "d7a4d300",
   "metadata": {},
   "outputs": [],
   "source": [
    "product_id = 'sentinel-2:L1C'\n",
    "start_datetime='2020-05-01'\n",
    "end_datetime='2020-06-01'\n",
    "year=2018"
   ]
  },
  {
   "cell_type": "code",
   "execution_count": 3,
   "id": "fe54a2db",
   "metadata": {},
   "outputs": [
    {
     "name": "stdout",
     "output_type": "stream",
     "text": [
      "\n",
      "Job ID: e15f4b07b7c46e21717a3b8ba297c518e4a8e23045c298b3\n",
      "[      ] | Steps: 0/0 | Stage: SUCCEEDED                                      "
     ]
    }
   ],
   "source": [
    "#import yolo country\n",
    "tomato_aoi = json.load(open('yolo.geojson'))\n",
    "\n",
    "# #Get UTM EPSG code\n",
    "shapely_aoi = sgeom.shape(tomato_aoi['features'][0]['geometry'])\n",
    "lat, lon = shapely_aoi.centroid.y, shapely_aoi.centroid.x\n",
    "utm_epsg = utils.wgs_to_epsg(lat, lon)\n",
    "\n",
    "#Create workflows context\n",
    "wf_ctx = wf.GeoContext(\n",
    "                geometry=tomato_aoi['features'][0]['geometry'],\n",
    "                resolution=20.0,\n",
    "                crs=f'EPSG:{utm_epsg}',\n",
    "                bounds_crs='EPSG:4326')\n",
    "\n",
    "# #Convert to a tile \n",
    "wf_ctx_data = wf_ctx.compute(progress_bar=True)\n",
    "reflat, reflon = wf_ctx_data['bounds'][1], wf_ctx_data['bounds'][0]\n",
    "tilesize= max(wf_ctx_data['arr_shape'])\n",
    "tile = dl.scenes.DLTile.from_latlon(reflat, reflon, wf_ctx_data['resolution'], tilesize, 0)\n"
   ]
  },
  {
   "cell_type": "markdown",
   "id": "04689844",
   "metadata": {},
   "source": [
    "Here we start to define the workflow. We will use Sentinel-2 imagery which has a resolution of 10 meters. In this next block of code, comments have been added before each step explaining what is happening in more detail."
   ]
  },
  {
   "cell_type": "code",
   "execution_count": 4,
   "id": "5ce2f427",
   "metadata": {},
   "outputs": [],
   "source": [
    "#Create a basic workflow defining the product, date range, and finally picking which bands we want\n",
    "sent2 = wf.ImageCollection.from_id(product_id=product_id,\n",
    "                                   start_datetime=start_datetime,\n",
    "                                   end_datetime=end_datetime\n",
    "                                   ).pick_bands('derived:ndvi cloud-mask')\n",
    "\n",
    "\n",
    "\n",
    "# Also import the 2020 CDL \n",
    "cdl = wf.ImageCollection.from_id(\"usda:cdl:v1\", start_datetime=\"2020-12-31\", end_datetime=\"2021-01-01\")\n",
    "\n",
    "#Here we mask all pixels in each image where the cloud mask is equal to 1.\n",
    "#We then just return the ndvi band using pick_bands. \n",
    "ndvi_masked = sent2.map(lambda img: img.mask(img.pick_bands('cloud-mask') == 1)).pick_bands('derived:ndvi')\n",
    "\n",
    "# And mask by the CDL = 54, which limits the calculation to only tomatoers\n",
    "#ndvi_masked = ndvi_masked.mask(cdl.mosaic() != 54) \n",
    "\n",
    "\n",
    "#This step groups the images by day. If there is more than one image on a day in the AOI\n",
    "#Then they are grouped into an Image collection together. This step also easily exposes\n",
    "#The date information for all the images in our time window\n",
    "ndvi_grouped = ndvi_masked.groupby(dates=('year', 'month', 'day'))\n",
    "\n",
    "#Next, we create a composite image for each day by taking the mean across images\n",
    "ndvi_mean = ndvi_grouped.mean('images')\n",
    "\n",
    "#Next we apply a moving window to the grouped images. In this case, we are combining the images\n",
    "#in the window with a mean operator and making sure the group information is included in the \n",
    "#properties of the new image. We are including the current image, plus the two images directly\n",
    "#before and after\n",
    "ndvi_windowed = ndvi_mean.map_window(lambda back, img, fwd: \n",
    "                                     wf.concat(back, img, fwd)\n",
    "                                     .mean('images')\n",
    "                                     .with_properties(group=img.properties['group']), back=2, fwd=2)\n",
    "\n",
    "#Now since we want to summarize the NDVI over the entire AOI using a mean, we will return the sum\n",
    "#and count of the unmasked pixels in each group. Additionally, we will return the group which is the date\n",
    "#of the central image in the window. We use workflows containers to organize the results. \n",
    "ndvi_stats = ndvi_windowed.map(lambda img: wf.Dict[wf.Str, wf.Any]({\n",
    "                                      'sum': img.sum('pixels')['derived:ndvi'],\n",
    "                                      'count': img.count('pixels')['derived:ndvi'],\n",
    "                                      'group': img.properties['group']\n",
    "}))"
   ]
  },
  {
   "cell_type": "code",
   "execution_count": 10,
   "id": "890dc32d",
   "metadata": {},
   "outputs": [],
   "source": [
    "# cdl.visualize(\"CDL\", checkerboard=False, colormap=\"Greens\")\n",
    "# cdl.mask(cdl.mosaic() != 54).visualize(\"CDL\", checkerboard=False, colormap=\"Greens\")\n",
    "# ndvi_windowed.visualize(\"Test\")\n",
    "# wf.map.zoom = 15\n",
    "# wf.map.center= 38.634960, -121.922958\n",
    "# wf.map"
   ]
  },
  {
   "cell_type": "code",
   "execution_count": 5,
   "id": "57aaa2ad",
   "metadata": {},
   "outputs": [
    {
     "name": "stdout",
     "output_type": "stream",
     "text": [
      "\n",
      "Job ID: ee9a2a31057f3efad0039c70675f5679cf1de54893ed9abb\n",
      "[      ] | Steps: 0/0 | Stage: SUCCEEDED                                      "
     ]
    }
   ],
   "source": [
    "#Get the groups and split the AOI into DL Tiles\n",
    "groups = ndvi_grouped.groups.keys().compute(wf_ctx, progress_bar=True)\n",
    "tiles = dl.scenes.DLTile.from_shape(tomato_aoi, 10, 512, 0)"
   ]
  },
  {
   "cell_type": "code",
   "execution_count": 6,
   "id": "8310a7f6",
   "metadata": {},
   "outputs": [],
   "source": [
    "#Submit the workflows jobs using compute and setting block=False\n",
    "#jobs = ndvi_stats.compute(wf_ctx)\n",
    "\n",
    "jobs = list(map(lambda ctx: ndvi_stats.compute(ctx, block=False), tiles))"
   ]
  },
  {
   "cell_type": "markdown",
   "id": "4d0ce15e",
   "metadata": {},
   "source": [
    "In the step below, we are going to combine the output of the jobs by group. We use a function located in utils.py \n",
    "called as_completed which loops over our job list and yeilds jobs as they complete."
   ]
  },
  {
   "cell_type": "code",
   "execution_count": null,
   "id": "63edb93d",
   "metadata": {},
   "outputs": [
    {
     "data": {
      "application/vnd.jupyter.widget-view+json": {
       "model_id": "9c0f6751ad7f4754b8bb283ba0e01fe3",
       "version_major": 2,
       "version_minor": 0
      },
      "text/plain": [
       "  0%|          | 0/145 [00:00<?, ?it/s]"
      ]
     },
     "metadata": {},
     "output_type": "display_data"
    }
   ],
   "source": [
    "## The nested iterable here was throwing errors on longer jobs\n",
    "for job in tqdm(utils.as_completed(jobs), total=len(jobs)):\n",
    "    data = job.result(progress_bar=True)\n"
   ]
  },
  {
   "cell_type": "code",
   "execution_count": 14,
   "id": "ac2d8e9b",
   "metadata": {},
   "outputs": [
    {
     "name": "stdout",
     "output_type": "stream",
     "text": [
      "{'sum': masked, 'count': 0.0, 'group': (2020, 5, 14)}\n",
      "{'sum': masked, 'count': 0.0, 'group': (2020, 5, 19)}\n"
     ]
    }
   ],
   "source": [
    "total_sum = {key: 0 for key in groups}\n",
    "total_count = {key: 0 for key in groups}\n",
    "\n",
    "for entry in data:\n",
    "    print(entry)\n",
    "    if not np.ma.is_masked(entry['sum']):\n",
    "        total_sum[entry['group']] += entry['sum']\n",
    "        total_count[entry['group']] += entry['count']"
   ]
  },
  {
   "cell_type": "markdown",
   "id": "c3cb28ea",
   "metadata": {},
   "source": [
    "All that is left to do is combine the information into a couple lists for plotting or saving later"
   ]
  },
  {
   "cell_type": "code",
   "execution_count": 9,
   "id": "0f1f3fb3",
   "metadata": {},
   "outputs": [],
   "source": [
    "ndvi_vals = []\n",
    "group_dates = []\n",
    "for key in groups:\n",
    "    summed = total_sum[key]\n",
    "    counted = total_count[key]\n",
    "    if summed > 0:\n",
    "        ndvi_vals.append(summed/counted)\n",
    "    else:\n",
    "        ndvi_vals.append(np.nan)\n",
    "    \n",
    "    group_dates.append(pd.to_datetime(str(key), format='(%Y, %m, %d)'))\n"
   ]
  },
  {
   "cell_type": "code",
   "execution_count": null,
   "id": "5d5db9a7",
   "metadata": {},
   "outputs": [],
   "source": [
    "#ndvi_vals_all = ndvi_vals"
   ]
  },
  {
   "cell_type": "code",
   "execution_count": 10,
   "id": "cdca885d",
   "metadata": {},
   "outputs": [
    {
     "data": {
      "text/plain": [
       "[<matplotlib.lines.Line2D at 0x7f98a41e0dd0>]"
      ]
     },
     "execution_count": 10,
     "metadata": {},
     "output_type": "execute_result"
    },
    {
     "data": {
      "image/png": "[encoded data removed]",
      "text/plain": [
       "<Figure size 1008x720 with 1 Axes>"
      ]
     },
     "metadata": {
      "needs_background": "light"
     },
     "output_type": "display_data"
    }
   ],
   "source": [
    "ylabs = ['NDVI']\n",
    "\n",
    "fig, axs = plt.subplots(1, 1, figsize=(14, 10))\n",
    "\n",
    "\n",
    "axs.plot(group_dates, ndvi_vals, linewidth=2.0)\n",
    "#axs.plot(group_dates, ndvi_vals_all, linewidth=2.0)"
   ]
  },
  {
   "cell_type": "code",
   "execution_count": null,
   "id": "54a069bb",
   "metadata": {},
   "outputs": [],
   "source": [
    "# Save these lists to text files for further processing\n",
    "with open('texts/2018_ndvi_dates.txt', 'w') as f:\n",
    "    for item in group_dates:\n",
    "        f.write(\"%s\\n\" % item)\n",
    "\n",
    "with open('texts/2018_ndvi_vals.txt', 'w') as f:\n",
    "    for item in ndvi_vals:\n",
    "        f.write(\"%s\\n\" % item)"
   ]
  },
  {
   "cell_type": "code",
   "execution_count": null,
   "id": "a26360d4",
   "metadata": {},
   "outputs": [],
   "source": []
  }
 ],
 "metadata": {
  "kernelspec": {
   "display_name": "Python 3",
   "language": "python",
   "name": "python3"
  },
  "language_info": {
   "codemirror_mode": {
    "name": "ipython",
    "version": 3
   },
   "file_extension": ".py",
   "mimetype": "text/x-python",
   "name": "python",
   "nbconvert_exporter": "python",
   "pygments_lexer": "ipython3",
   "version": "3.7.10"
  }
 },
 "nbformat": 4,
 "nbformat_minor": 5
}
