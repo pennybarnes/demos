{
 "cells": [
  {
   "cell_type": "markdown",
   "metadata": {},
   "source": [
    "# Data Exploration & Simple Example for Field Boundary Delineation"
   ]
  },
  {
   "cell_type": "code",
   "execution_count": 1,
   "metadata": {},
   "outputs": [
    {
     "name": "stderr",
     "output_type": "stream",
     "text": [
      "/opt/conda/lib/python3.7/site-packages/descarteslabs/common/workflows/arrow_serialization/context.py:57: FutureWarning: 'pyarrow.SerializationContext' is deprecated and will be removed in a future version. Use pickle or the pyarrow IPC functionality instead.\n",
      "  serialization_context = pa.SerializationContext()\n",
      "/opt/conda/lib/python3.7/site-packages/descarteslabs/common/workflows/arrow_serialization/context.py:58: FutureWarning: 'pyarrow.register_default_serialization_handlers' is deprecated as of 2.0.0 and will be removed in a future version. Use pickle or the pyarrow IPC functionality instead.\n",
      "  pa.register_default_serialization_handlers(serialization_context)\n"
     ]
    }
   ],
   "source": [
    "import descarteslabs.workflows as wf\n",
    "import numpy as np\n",
    "import matplotlib.pyplot as plt\n",
    "import math"
   ]
  },
  {
   "cell_type": "code",
   "execution_count": 2,
   "metadata": {},
   "outputs": [],
   "source": [
    "def wgs_to_epsg(lat, lon):\n",
    "    \"\"\"\n",
    "    Get the epsg code from a (lat, lon) location\n",
    "    \"\"\"\n",
    "    utm_band = str((math.floor((lon + 180) / 6) % 60) + 1)\n",
    "    if len(utm_band) == 1:\n",
    "        utm_band = \"0\" + utm_band\n",
    "    if lat >= 0:\n",
    "        epsg_code = \"326\" + utm_band\n",
    "    else:\n",
    "        epsg_code = \"327\" + utm_band\n",
    "    return epsg_code"
   ]
  },
  {
   "cell_type": "markdown",
   "metadata": {},
   "source": [
    "## Creating workflows image collections"
   ]
  },
  {
   "cell_type": "markdown",
   "metadata": {},
   "source": [
    "We'll start by creating a workflows image collection for Sentinel-2. We will be focusing on one year of imagery (2019) for this exploration. More specifically we will be looking at imagery from around the growing season in our AOI."
   ]
  },
  {
   "cell_type": "code",
   "execution_count": 3,
   "metadata": {},
   "outputs": [],
   "source": [
    "year = 2020\n",
    "start_datetime = f\"{year}-05-01\"\n",
    "end_datetime = f\"{year}-09-01\""
   ]
  },
  {
   "cell_type": "code",
   "execution_count": 4,
   "metadata": {},
   "outputs": [],
   "source": [
    "ic = wf.ImageCollection.from_id(\n",
    "    \"sentinel-2:L1C\",\n",
    "    start_datetime=start_datetime,\n",
    "    end_datetime=end_datetime,\n",
    "    processing_level=\"surface\"\n",
    ")\n",
    "s1 = wf.ImageCollection.from_id(\n",
    "    \"sentinel-1:GRD\",\n",
    "    start_datetime=start_datetime,\n",
    "    end_datetime=end_datetime,\n",
    ")\n",
    "\n"
   ]
  },
  {
   "cell_type": "markdown",
   "metadata": {},
   "source": [
    "## Visualizing workflows image collections"
   ]
  },
  {
   "cell_type": "markdown",
   "metadata": {},
   "source": [
    "Now let's look at the first image in the image collection using the workflows map and `.visualize()` method."
   ]
  },
  {
   "cell_type": "code",
   "execution_count": 5,
   "metadata": {},
   "outputs": [],
   "source": [
    "wf.map.center = [45.053594, -85.642160]"
   ]
  },
  {
   "cell_type": "code",
   "execution_count": 6,
   "metadata": {},
   "outputs": [],
   "source": [
    "rgb = ic[0].pick_bands(\"red green blue\")\n",
    "rgb.visualize(\"Sentinel-2 RGB\", scales=[[0, 0.4], [0, 0.4], [0, 0.4]])\n",
    "s1_3_band = s1[0].pick_bands(\"vv vh vv\")\n",
    "s1_3_band.visualize(\"Sentinel-1 VV VH VV\")"
   ]
  },
  {
   "cell_type": "code",
   "execution_count": 10,
   "metadata": {},
   "outputs": [],
   "source": [
    "#wf.map"
   ]
  },
  {
   "cell_type": "markdown",
   "metadata": {},
   "source": [
    "------------"
   ]
  },
  {
   "cell_type": "markdown",
   "metadata": {},
   "source": [
    "## Examining the data more closely"
   ]
  },
  {
   "cell_type": "markdown",
   "metadata": {},
   "source": [
    "Now that we have our Senintel-2 image collection let's pull the first few scenes locally to play with the data. We will be using the workflows map bounds to pull the data."
   ]
  },
  {
   "cell_type": "markdown",
   "metadata": {},
   "source": [
    "We'll center the map and fix the zoom level so we're all looking at the same imagery."
   ]
  },
  {
   "cell_type": "code",
   "execution_count": 8,
   "metadata": {},
   "outputs": [],
   "source": [
    "wf.map.center = [45.053594, -85.642160]\n",
    "wf.map.zoom = 13"
   ]
  },
  {
   "cell_type": "markdown",
   "metadata": {},
   "source": [
    "Now we can create a geocontext and access the imagery directly using the bounds of the map as a reference."
   ]
  },
  {
   "cell_type": "markdown",
   "metadata": {},
   "source": [
    "We grab the bounds of the workflows map using `wf.map.bounds`. We need to flatten and reorder these bounds to be compatible with the format required in a `wf.GeoContext`. The desired format is `(min_x, min_y, max_x, max_y)`"
   ]
  },
  {
   "cell_type": "code",
   "execution_count": 9,
   "metadata": {},
   "outputs": [
    {
     "ename": "IndexError",
     "evalue": "list index out of range",
     "output_type": "error",
     "traceback": [
      "\u001b[0;31m---------------------------------------------------------------------------\u001b[0m",
      "\u001b[0;31mIndexError\u001b[0m                                Traceback (most recent call last)",
      "\u001b[0;32m<ipython-input-9-c0d0e4e9af94>\u001b[0m in \u001b[0;36m<module>\u001b[0;34m\u001b[0m\n\u001b[1;32m      1\u001b[0m \u001b[0mbounds_d\u001b[0m \u001b[0;34m=\u001b[0m \u001b[0mlist\u001b[0m\u001b[0;34m(\u001b[0m\u001b[0mnp\u001b[0m\u001b[0;34m.\u001b[0m\u001b[0marray\u001b[0m\u001b[0;34m(\u001b[0m\u001b[0mwf\u001b[0m\u001b[0;34m.\u001b[0m\u001b[0mmap\u001b[0m\u001b[0;34m.\u001b[0m\u001b[0mbounds\u001b[0m\u001b[0;34m)\u001b[0m\u001b[0;34m.\u001b[0m\u001b[0mflatten\u001b[0m\u001b[0;34m(\u001b[0m\u001b[0;34m)\u001b[0m\u001b[0;34m)\u001b[0m\u001b[0;34m\u001b[0m\u001b[0;34m\u001b[0m\u001b[0m\n\u001b[0;32m----> 2\u001b[0;31m \u001b[0mbounds\u001b[0m \u001b[0;34m=\u001b[0m \u001b[0;34m[\u001b[0m\u001b[0mbounds_d\u001b[0m\u001b[0;34m[\u001b[0m\u001b[0;36m1\u001b[0m\u001b[0;34m]\u001b[0m\u001b[0;34m,\u001b[0m \u001b[0mbounds_d\u001b[0m\u001b[0;34m[\u001b[0m\u001b[0;36m0\u001b[0m\u001b[0;34m]\u001b[0m\u001b[0;34m,\u001b[0m \u001b[0mbounds_d\u001b[0m\u001b[0;34m[\u001b[0m\u001b[0;36m3\u001b[0m\u001b[0;34m]\u001b[0m\u001b[0;34m,\u001b[0m \u001b[0mbounds_d\u001b[0m\u001b[0;34m[\u001b[0m\u001b[0;36m2\u001b[0m\u001b[0;34m]\u001b[0m\u001b[0;34m]\u001b[0m\u001b[0;34m\u001b[0m\u001b[0;34m\u001b[0m\u001b[0m\n\u001b[0m",
      "\u001b[0;31mIndexError\u001b[0m: list index out of range"
     ]
    }
   ],
   "source": [
    "bounds_d = list(np.array(wf.map.bounds).flatten())\n",
    "bounds = [bounds_d[1], bounds_d[0], bounds_d[3], bounds_d[2]]"
   ]
  },
  {
   "cell_type": "code",
   "execution_count": null,
   "metadata": {},
   "outputs": [],
   "source": [
    "utm_code = wgs_to_epsg(*wf.map.center)"
   ]
  },
  {
   "cell_type": "code",
   "execution_count": null,
   "metadata": {},
   "outputs": [],
   "source": [
    "ctx = wf.GeoContext(\n",
    "    bounds=bounds,\n",
    "    bounds_crs=\"EPSG:4326\",\n",
    "    crs=f\"EPSG:{utm_code}\",\n",
    "    resolution = 10.\n",
    ")"
   ]
  },
  {
   "cell_type": "markdown",
   "metadata": {},
   "source": [
    "Now we can actually get the data from platform to work with locally. We do this with `.compute()` and the geocontext we just created. We'll start by accessing the first 10 scenes from our image collection."
   ]
  },
  {
   "cell_type": "code",
   "execution_count": null,
   "metadata": {},
   "outputs": [],
   "source": [
    "result = ic[0:10].pick_bands(\"red green blue\").compute(ctx)"
   ]
  },
  {
   "cell_type": "code",
   "execution_count": null,
   "metadata": {},
   "outputs": [],
   "source": [
    "result"
   ]
  },
  {
   "cell_type": "markdown",
   "metadata": {},
   "source": [
    "Our result has four primary pieces of information associated with it: `ndarray`, `properties`, `bandinfo`, and `geocontext`. `ndarray` is the actual image data stored in a `numpy.ndarray` object. `properties` contains a lot of useful information about the imagery you accessed. `bandinfo` is a dictionary of information about each band you requested. `geocontext` is the geocontext describing the data you accessed."
   ]
  },
  {
   "cell_type": "markdown",
   "metadata": {},
   "source": [
    "Let's look a the properties for one of the images we pulled in the Senintel-2 collection:"
   ]
  },
  {
   "cell_type": "code",
   "execution_count": null,
   "metadata": {},
   "outputs": [],
   "source": [
    "result.properties[0].keys()"
   ]
  },
  {
   "cell_type": "markdown",
   "metadata": {},
   "source": [
    "Let's also look at the shape of the underlying numpy ndarray."
   ]
  },
  {
   "cell_type": "code",
   "execution_count": null,
   "metadata": {},
   "outputs": [],
   "source": [
    "print(\"Sentinel-2 IC shape:\\t\" + str(result.ndarray.shape))"
   ]
  },
  {
   "cell_type": "markdown",
   "metadata": {},
   "source": [
    "The dimensions of the array correspond to `(time, bands, pixel_x, pixel_y)`."
   ]
  },
  {
   "cell_type": "markdown",
   "metadata": {},
   "source": [
    "----------"
   ]
  },
  {
   "cell_type": "markdown",
   "metadata": {},
   "source": [
    "Do the same for Sentinel-1 "
   ]
  },
  {
   "cell_type": "code",
   "execution_count": null,
   "metadata": {},
   "outputs": [],
   "source": [
    "result_s1 = s1[0:10].pick_bands(\"vv vh vv\").compute(ctx)\n",
    "\n",
    "for prop in result_s1.properties:\n",
    "    date, img_pass, orbit, img_id = (\n",
    "        prop[\"date\"],\n",
    "        prop[\"pass\"],\n",
    "        prop[\"relative_orbit\"],\n",
    "        prop[\"id\"],\n",
    "    )\n",
    "    print(f\"{date}, {img_pass}, {orbit}, {img_id} \\n\")"
   ]
  },
  {
   "cell_type": "markdown",
   "metadata": {},
   "source": [
    "------------"
   ]
  },
  {
   "cell_type": "markdown",
   "metadata": {},
   "source": [
    "## Refining our Sentinel-2 workflow"
   ]
  },
  {
   "cell_type": "markdown",
   "metadata": {},
   "source": [
    "We will need to find a way to deal with cloudy scenes in our Sentinel-2 image collection. The best way to go about this is to construct a series of composites (in this case monthly) leveraging as many cloud free pixels as possible."
   ]
  },
  {
   "cell_type": "markdown",
   "metadata": {},
   "source": [
    "First let's filter out any overly cloudly scenes using the `cloud_fraction` property. To do this we can use the `.filter()` method of our image collection. We must provide a lambda function to specify what fraction of the total pixels being covered by clouds we are okay with having in our imagery (in this case < 10%)."
   ]
  },
  {
   "cell_type": "code",
   "execution_count": null,
   "metadata": {},
   "outputs": [],
   "source": [
    "ic_filtered = ic.filter(lambda img: img.properties[\"cloud_fraction\"]<0.1)\n",
    "\n",
    "cmask = ic_filtered.pick_bands(\"cloud-mask\")\n",
    "cmask = cmask > 0 \n",
    "\n",
    "ic_masked = ic_filtered.mask(cmask)\n",
    "monthly = ic_masked.groupby(lambda img: img.properties[\"date\"].month).mean(axis=\"images\")\n",
    "result_rgb_monthly = monthly.pick_bands(\"red green blue\").compute(ctx)"
   ]
  },
  {
   "cell_type": "markdown",
   "metadata": {},
   "source": [
    "Finally let's take a look at the monthly cloud free composites."
   ]
  },
  {
   "cell_type": "code",
   "execution_count": null,
   "metadata": {},
   "outputs": [],
   "source": [
    "fig, axs = plt.subplots(4, 1, figsize=(9,12))\n",
    "axs = axs.flatten()\n",
    "for i in range(monthly_arr.shape[0]):\n",
    "    axs[i].imshow(np.moveaxis(monthly_arr[i], 0, -1))\n",
    "    axs[i].axis(\"off\")\n",
    "    axs[i].set_title(\"Month: \" + str(result_rgb_monthly.properties[i][\"group\"]))"
   ]
  },
  {
   "cell_type": "code",
   "execution_count": null,
   "metadata": {},
   "outputs": [],
   "source": [
    "s1_filtered = s1.filter(lambda img: img.properties[\"pass\"] == \"ASCENDING\")\n",
    "s1_monthly_max = s1_filtered.groupby(lambda img: img.properties[\"date\"].month).max(\n",
    "    axis=\"images\"\n",
    ")\n",
    "s1_monthly_result = s1_monthly_max.pick_bands(\"vv vh vv\").compute(ctx)\n",
    "\n",
    "s1_monthly_arr = s1_monthly_result.ndarray\n",
    "\n",
    "fig, axs = plt.subplots(4, 1, figsize=(9, 18))\n",
    "axs = axs.flatten()\n",
    "for i in range(s1_monthly_arr.shape[0]):\n",
    "    axs[i].imshow(np.moveaxis(s1_monthly_arr[i], 0, -1))\n",
    "    axs[i].axis(\"off\")\n",
    "    axs[i].set_title(\"Month: \" + str(s1_monthly_result.properties[i][\"group\"]))\n"
   ]
  },
  {
   "cell_type": "markdown",
   "metadata": {},
   "source": [
    "-------------"
   ]
  },
  {
   "cell_type": "markdown",
   "metadata": {},
   "source": [
    "## Publishing our cloud free monthly workflow"
   ]
  },
  {
   "cell_type": "code",
   "execution_count": null,
   "metadata": {},
   "outputs": [],
   "source": [
    "my_email = \"penny.barnes@descarteslabs.com\"\n",
    "version = \"1.0.0\"\n",
    "\n",
    "monthly.publish(\n",
    "    f\"{my_email}:sentinel_2_monthly_cloudfree_rgb\",\n",
    "    version,\n",
    "    title=f\"Sentinel-2 RGB Monthly Cloud Free Composite ({start_datetime} to {end_datetime})\"\n",
    ")"
   ]
  },
  {
   "cell_type": "markdown",
   "metadata": {},
   "source": [
    "We can view all of our published workflows with this handy built-in widget:"
   ]
  },
  {
   "cell_type": "code",
   "execution_count": null,
   "metadata": {},
   "outputs": [],
   "source": [
    "wf.interactive.WorkflowsBrowser()"
   ]
  },
  {
   "cell_type": "code",
   "execution_count": null,
   "metadata": {},
   "outputs": [],
   "source": []
  }
 ],
 "metadata": {
  "kernelspec": {
   "display_name": "Python 3",
   "language": "python",
   "name": "python3"
  },
  "language_info": {
   "codemirror_mode": {
    "name": "ipython",
    "version": 3
   },
   "file_extension": ".py",
   "mimetype": "text/x-python",
   "name": "python",
   "nbconvert_exporter": "python",
   "pygments_lexer": "ipython3",
   "version": "3.7.10"
  }
 },
 "nbformat": 4,
 "nbformat_minor": 4
}
