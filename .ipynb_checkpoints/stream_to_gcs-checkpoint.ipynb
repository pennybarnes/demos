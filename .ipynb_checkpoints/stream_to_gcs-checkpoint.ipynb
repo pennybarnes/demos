{
 "cells": [
  {
   "cell_type": "markdown",
   "metadata": {},
   "source": [
    "# Stream data to GCS\n",
    "___\n",
    "\n",
    "This notebook shows how to use satin tooling and `requests` to stream large files from the Rio Tinto SFT server into google buckets."
   ]
  },
  {
   "cell_type": "code",
   "execution_count": 1,
   "metadata": {},
   "outputs": [],
   "source": [
    "# import packages\n",
    "import os\n",
    "import requests\n",
    "import json\n",
    "from tqdm import tqdm\n",
    "\n",
    "import sys\n",
    "sys.path.append('/home/jovyan/rose/satin/')\n",
    "\n",
    "from satin.utils.gcs_io.streamupload import requests_to_gs"
   ]
  },
  {
   "cell_type": "markdown",
   "metadata": {},
   "source": [
    "### Set up access to use requests \n",
    "___ \n",
    "This uses the username and password for the Rio Tinto server site to get an access token for requests"
   ]
  },
  {
   "cell_type": "code",
   "execution_count": 2,
   "metadata": {},
   "outputs": [],
   "source": [
    "payload = {\n",
    "    'username': 'YOUR-USERNAME', \n",
    "    'password': 'YOUR-PASSWORD', \n",
    "    'grant_type': 'password'\n",
    "}\n",
    "\n",
    "# Is this a self signed cert enable this to ignore SSL errors\n",
    "requests.packages.urllib3.disable_warnings()\n",
    "\n",
    "# Authentication\n",
    "r = requests.post('https://sft.riotinto.com/api/v1/token', data=payload, verify=False)\n",
    "access_token = r.json()['access_token']\n",
    "header = {'Authorization': f'Bearer {access_token}'}"
   ]
  },
  {
   "cell_type": "markdown",
   "metadata": {},
   "source": [
    "### Browse files within the SFT Rio Tinto server \n",
    "___\n",
    "\n",
    "In order to download urls with `requests`, you need to know where to find the files. Below, we show how to browse folders and files within the Rio Tinto server. When you find the folders / files needed, you need to manually note the IDs to create the proper download urls. "
   ]
  },
  {
   "cell_type": "markdown",
   "metadata": {},
   "source": [
    "First, show all the available folders within the server site"
   ]
  },
  {
   "cell_type": "code",
   "execution_count": 3,
   "metadata": {},
   "outputs": [
    {
     "name": "stdout",
     "output_type": "stream",
     "text": [
      "{'id': '614788840', 'parentId': '0', 'name': '', 'lastContentChangeTime': '2021-05-11T07:30:55', 'folderType': 'Root', 'path': '/', 'isShared': False, 'permission': {'canListSubfolders': True, 'canAddSubfolders': False, 'canChangeSettings': False, 'canDelete': False, 'canListFiles': False, 'canReadFiles': False, 'canWriteFiles': False, 'canDeleteFiles': False, 'canShare': False}, 'subfolderCount': 1, 'totalFileCount': 0, 'sharedWithUsersCount': 0, 'sharedWithGroupsCount': 0}\n",
      "\n",
      "{'id': '720707876', 'parentId': '614788840', 'name': 'RTX AMR Data Transfers', 'lastContentChangeTime': '2021-04-13T09:54:57', 'folderType': 'Normal', 'path': '/RTX AMR Data Transfers', 'isShared': True, 'permission': {'canListSubfolders': True, 'canAddSubfolders': False, 'canChangeSettings': False, 'canDelete': False, 'canListFiles': False, 'canReadFiles': False, 'canWriteFiles': False, 'canDeleteFiles': False, 'canShare': False}, 'subfolderCount': 1, 'totalFileCount': 0, 'sharedWithUsersCount': 0, 'sharedWithGroupsCount': 0}\n",
      "\n",
      "{'id': '722722105', 'parentId': '720707876', 'name': 'DescartesLab', 'lastContentChangeTime': '2021-05-11T20:03:33', 'folderType': 'Normal', 'path': '/RTX AMR Data Transfers/DescartesLab', 'isShared': True, 'permission': {'canListSubfolders': False, 'canAddSubfolders': False, 'canChangeSettings': False, 'canDelete': False, 'canListFiles': True, 'canReadFiles': True, 'canWriteFiles': True, 'canDeleteFiles': False, 'canShare': False}, 'subfolderCount': 0, 'totalFileCount': 3, 'sharedWithUsersCount': 0, 'sharedWithGroupsCount': 0}\n",
      "\n"
     ]
    }
   ],
   "source": [
    "r = requests.get('https://sft.riotinto.com/api/v1/folders', headers=header, allow_redirects=True)\n",
    "dict_ = json.loads(r.text)\n",
    "\n",
    "for item in dict_['items']:\n",
    "    print(item)\n",
    "    print('')"
   ]
  },
  {
   "cell_type": "markdown",
   "metadata": {},
   "source": [
    "By logging into the sft site itself, we can see where the files are that we need. As an example, let's find the url for the `/RTX AMR Data Transfers/DescartesLab/Rosemont_LWIR_Emissivity_V2.zip` file. From the server site, we know that it's in the `/RTX AMR Data Transfers/DescartesLab` folder. By manually inspecting the items above, we see that the `id` associated with the folder with this name is `'722722105'`. Now, we can change the request link to see which files exist in this folder"
   ]
  },
  {
   "cell_type": "code",
   "execution_count": 4,
   "metadata": {},
   "outputs": [
    {
     "name": "stdout",
     "output_type": "stream",
     "text": [
      "{'path': '/RTX AMR Data Transfers/DescartesLab/Christmas_001-053_EMISS_Mosaic_V2.zip', 'uploadStamp': '2021-05-03T17:04:26.187', 'isNew': False, 'name': 'Christmas_001-053_EMISS_Mosaic_V2.zip', 'size': 1776261280, 'id': '764579580'}\n",
      "\n",
      "{'path': '/RTX AMR Data Transfers/DescartesLab/Christmas_001-053_EMISS_Mosaic_V2_01.zip', 'uploadStamp': '2021-05-04T18:25:44.567', 'isNew': False, 'name': 'Christmas_001-053_EMISS_Mosaic_V2_01.zip', 'size': 1888011872, 'id': '764715030'}\n",
      "\n",
      "{'path': '/RTX AMR Data Transfers/DescartesLab/Rosemont_LWIR_Emissivity_V2.zip', 'uploadStamp': '2021-04-16T14:59:18.897', 'isNew': False, 'name': 'Rosemont_LWIR_Emissivity_V2.zip', 'size': 294403204, 'id': '759976791'}\n",
      "\n"
     ]
    }
   ],
   "source": [
    "r = requests.get('https://sft.riotinto.com/api/v1/folders/722722105/files', headers=header, allow_redirects=True)\n",
    "dict_ = json.loads(r.text)\n",
    "\n",
    "for item in dict_['items']:\n",
    "    print(item)\n",
    "    print('')"
   ]
  },
  {
   "cell_type": "markdown",
   "metadata": {},
   "source": [
    "Now we see the file of interest above, with path `/RTX AMR Data Transfers/DescartesLab/Rosemont_LWIR_Emissivity_V2.zip`. By again inspecting the different items for the proper ID, we see that this file has id `'759976791'`. With this information, we will construct the list of urls that we want to download. In this case, we're just downloading this one file."
   ]
  },
  {
   "cell_type": "code",
   "execution_count": 5,
   "metadata": {},
   "outputs": [],
   "source": [
    "urls = [\n",
    "    'https://sft.riotinto.com/api/v1/folders/722722105/files/759976791/download'\n",
    "]"
   ]
  },
  {
   "cell_type": "markdown",
   "metadata": {},
   "source": [
    "To stream the data into a google bucket, we need to mount the folder, then stream the above url chunk by chunk into it's new location. You can mount the bucket with `gcsfuse` on a GCS VM. Create a folder in the same directory as this file called `mounted_bucket`, then mount the base bucket you want to stream to from google cloud storage:"
   ]
  },
  {
   "cell_type": "raw",
   "metadata": {},
   "source": [
    "base_folder = 'mounted_bucket'\n",
    "os.makedirs(base_folder, exist_ok=True)"
   ]
  },
  {
   "cell_type": "raw",
   "metadata": {},
   "source": [
    "!gcsfuse dl-rose mounted_bucket"
   ]
  },
  {
   "cell_type": "raw",
   "metadata": {},
   "source": [
    "file_path = '/home/rose/platform/rtx/data-ingest/rosemont/Rosemont_LWIR_Emissivity_V1.zip'"
   ]
  },
  {
   "cell_type": "markdown",
   "metadata": {},
   "source": [
    "Or, if you'd just like to stream the files into workbench, create a folder to stream to locally. In this case, it's not necessary to mount a bucket."
   ]
  },
  {
   "cell_type": "code",
   "execution_count": 6,
   "metadata": {},
   "outputs": [],
   "source": [
    "base_folder = 'local_folder'\n",
    "os.makedirs(base_folder, exist_ok=True)\n",
    "\n",
    "file_path = f'{base_folder}/Rosemont_LWIR_Emissivity_V1.zip'"
   ]
  },
  {
   "cell_type": "markdown",
   "metadata": {},
   "source": [
    "Finally, stream the files from the urls into the desired folder, either to the mounted bucket or to the local folder!"
   ]
  },
  {
   "cell_type": "code",
   "execution_count": 8,
   "metadata": {},
   "outputs": [
    {
     "name": "stdout",
     "output_type": "stream",
     "text": [
      "url:  https://sft.riotinto.com/api/v1/folders/722722105/files/759976791/download\n"
     ]
    },
    {
     "name": "stderr",
     "output_type": "stream",
     "text": [
      "36it [00:17,  2.10it/s]"
     ]
    },
    {
     "name": "stdout",
     "output_type": "stream",
     "text": [
      "Complete.\n"
     ]
    },
    {
     "name": "stderr",
     "output_type": "stream",
     "text": [
      "\n"
     ]
    }
   ],
   "source": [
    "for url in urls:\n",
    "    # Authentication\n",
    "    r = requests.post('https://sft.riotinto.com/api/v1/token', data=payload, verify=True)\n",
    "    access_token = r.json()['access_token']\n",
    "    header = {'Authorization': f'Bearer {access_token}'}\n",
    "    \n",
    "    # Stream file to folder\n",
    "    print('url: ', url)\n",
    "    r = requests.get(url, headers=header, allow_redirects=True, stream=True)\n",
    "    \n",
    "    of = open(file_path, 'wb')\n",
    "    for chunk in tqdm(r.iter_content(chunk_size=8*1024*1024)):\n",
    "        of.write(chunk)\n",
    "\n",
    "    print('Complete.')"
   ]
  },
  {
   "cell_type": "code",
   "execution_count": null,
   "metadata": {},
   "outputs": [],
   "source": []
  }
 ],
 "metadata": {
  "kernelspec": {
   "display_name": "satin",
   "language": "python",
   "name": "satin"
  },
  "language_info": {
   "codemirror_mode": {
    "name": "ipython",
    "version": 3
   },
   "file_extension": ".py",
   "mimetype": "text/x-python",
   "name": "python",
   "nbconvert_exporter": "python",
   "pygments_lexer": "ipython3",
   "version": "3.7.8"
  }
 },
 "nbformat": 4,
 "nbformat_minor": 4
}
