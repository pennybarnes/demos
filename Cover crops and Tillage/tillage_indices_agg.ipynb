{
 "cells": [
  {
   "cell_type": "markdown",
   "metadata": {},
   "source": [
    "# Sustainable Agriculture - Tillage\n",
    "_____"
   ]
  },
  {
   "cell_type": "markdown",
   "metadata": {},
   "source": [
    "The purpose of this notebook is to demonstrate how the Descartes Labs platform can assist in quickly developing sustainable agriculture analysis and workflows. \n",
    "\n",
    "We'll look at tillage indices from the literature, which can be quickly derived and viewed on an interactive map. Ground truth would be needed to correlate these indices with meaningful values.\n",
    "\n",
    "You can run the cells in this notebook one at a time by using `Shift-Enter`"
   ]
  },
  {
   "cell_type": "code",
   "execution_count": null,
   "metadata": {},
   "outputs": [],
   "source": [
    "# keep logging quiet\n",
    "import logging\n",
    "logger = logging.getLogger()\n",
    "logger.setLevel(logging.INFO)\n",
    "logging.captureWarnings(True)"
   ]
  },
  {
   "cell_type": "code",
   "execution_count": null,
   "metadata": {},
   "outputs": [],
   "source": [
    "# import packages\n",
    "import descarteslabs as dl\n",
    "import descarteslabs.workflows as wf\n",
    "\n",
    "import ipywidgets\n",
    "import ipyleaflet\n",
    "from ipyleaflet import GeoData\n",
    "\n",
    "import numpy as np\n",
    "import pandas as pd\n",
    "import geopandas as gpd\n",
    "from shapely.geometry import Polygon"
   ]
  },
  {
   "cell_type": "markdown",
   "metadata": {},
   "source": [
    "### Estimating Crop Residue / Tillage\n",
    "\n",
    "Next, we will explore Crop Residue Indices (CRIs). The indices are derived from Sentinel-2 satellite imagery, and have been found to be correlated with tillage practice and crop residue cover. \n",
    "\n",
    "Using Descartes Labs `Workflows`, we get an image collection in Iowa at the beginning of the growing season. We then derive CRIs from the spectral information in Sentinel-2 imagery, and display the indices and Sentinel-2 imagery on an interactive map. "
   ]
  },
  {
   "cell_type": "code",
   "execution_count": null,
   "metadata": {},
   "outputs": [],
   "source": [
    "# Set up the interactive map\n",
    "m = wf.map\n",
    "# m.center = (42.344841, -93.168481)  # Iowa South Fork Watershed\n",
    "m.center = (41.7346976,-95.0216351)\n",
    "m.zoom = 12"
   ]
  },
  {
   "cell_type": "markdown",
   "metadata": {},
   "source": [
    "#### Define a Sentinel-2 Image Collection. \n",
    "Following the recommendations in the paper \"Estimates of Conservation Tillage Practices Using Landsat Archive\", we filter out clouds, high NDVI values, and invalid pixels.\n",
    "\n",
    "Paper link: https://www.mdpi.com/2072-4292/12/16/2665"
   ]
  },
  {
   "cell_type": "code",
   "execution_count": null,
   "metadata": {},
   "outputs": [],
   "source": [
    "# Set parameters for pulling imagery\n",
    "start_datetime = \"2019-05-01\"\n",
    "end_datetime = \"2019-06-01\"\n",
    "product_id = \"sentinel-2:L1C\"\n",
    "cloud_band = \"valid_cloudfree\""
   ]
  },
  {
   "cell_type": "code",
   "execution_count": null,
   "metadata": {},
   "outputs": [],
   "source": [
    "# Define the Sentinel-2 Image Collection \n",
    "ic = wf.ImageCollection.from_id(product_id, start_datetime, end_datetime)\n",
    "\n",
    "# Mask by clouds\n",
    "cloudmask = (\n",
    "    wf.ImageCollection.from_id(\n",
    "        product_id + \":dlcloud:v1\", start_datetime, end_datetime\n",
    "    ).pick_bands(cloud_band) == 0\n",
    ")\n",
    "\n",
    "# Make an ImageCollectionGroupby object, for quicker lookups \n",
    "#  from `ic` by date (you can use it like a dict)\n",
    "ic_date_groupby = ic.groupby(dates=(\"year\", \"month\", \"day\"))\n",
    "\n",
    "# For each cloudmask date, pick the corresponding image from `ic` by date, mosaic both, and mask them.\n",
    "# (Not all scenes have cloudmasks processed, so this ensures we only return scenes that do.)\n",
    "masked_ic = cloudmask.groupby(dates=(\"year\", \"month\", \"day\")).map(\n",
    "    lambda ymd, mask_imgs: ic_date_groupby[ymd].mosaic().mask(mask_imgs.mosaic())\n",
    ")\n",
    "\n",
    "# Create a S2 median composite layer to display on the map \n",
    "masked_ic.pick_bands(\"red green blue\").median(axis=\"images\").visualize(\"S2 Median Composite\")\n",
    "\n",
    "# Mask by areas where NDVI is greater than 0.3 \n",
    "red, nir = masked_ic.unpack_bands(\"red nir\")\n",
    "ndvi = (nir - red)/(nir + red)\n",
    "masked_ic = masked_ic.mask(ndvi > 0.3)\n",
    "\n",
    "# Mask out invalid pixels\n",
    "qa_mask = masked_ic.unpack_bands(\"alpha\")\n",
    "masked_ic = masked_ic.mask(qa_mask == 1)\n",
    "\n",
    "# Create a S2 filtered median composite later to display on the map\n",
    "masked_ic.pick_bands(\"red green blue\").median(axis=\"images\").visualize(\"S2 Median Composite, filtered\")"
   ]
  },
  {
   "cell_type": "markdown",
   "metadata": {},
   "source": [
    "#### Compute relevant Crop Residue Indices\n",
    "\n",
    "We compute indices that are outlined in the following paper, titled \"A Comparison of Estimating Crop Residue Cover from Sentinel-2 Data Using Empirical Regressions and Machine Learning Methods\": https://www.mdpi.com/2072-4292/12/9/1470"
   ]
  },
  {
   "cell_type": "code",
   "execution_count": null,
   "metadata": {},
   "outputs": [],
   "source": [
    "# Get relevant bands for the Crop Residue Indices (CRIs)\n",
    "b2, b3, b4, b8a, b11, b12 = masked_ic.unpack_bands(\"blue green red red-edge-4 swir1 swir2\")\n",
    "\n",
    "# Simulated Cellulose Absorption Index (3BI1)\n",
    "sim_cai = (100 * (0.5 * (b2 + b12) - b4)).rename_bands(\"3BI1\")\n",
    "sim_cai.min(axis=\"images\").visualize(\"3BI1\", scales=[7.35, -0.37], colormap=\"Greens\")\n",
    "\n",
    "# Simulated Lignin Cellulose Absorption Index (3BI2)\n",
    "sim_lcai = ((b2 - b4)/(b2 - b12)).rename_bands(\"3BI2\")\n",
    "sim_lcai.min(axis=\"images\").visualize(\"3BI2\", scales=[-0.87, 0.44], colormap=\"Greens\")\n",
    "\n",
    "# Simulated NDRI (3BI3)\n",
    "sim_ndri = ((b12 - b4)/(b12 + b11)).rename_bands(\"3BI3\")\n",
    "sim_ndri.min(axis=\"images\").visualize(\"3BI3\", scales=[0.25, 0.00], colormap=\"Greens\")\n",
    "\n",
    "# Normalized Difference Tillage Index (NDTI)\n",
    "ndti = ((b11 - b12)/(b11 + b12)).rename_bands(\"NDTI\")\n",
    "ndti.min(axis=\"images\").visualize(\"NDTI\", scales=[0.08, 0.20], colormap=\"Greens\")\n",
    "\n",
    "# Normalized Different Residue Index (NDRI)\n",
    "ndri = ((b4 - b12)/(b4 + b12)).rename_bands('NDRI')\n",
    "ndri.min(axis=\"images\").visualize(\"NDRI\", scales=[-0.44, -0.06], colormap=\"Greens\")"
   ]
  },
  {
   "cell_type": "code",
   "execution_count": null,
   "metadata": {},
   "outputs": [],
   "source": [
    "# Display the map\n",
    "m"
   ]
  },
  {
   "cell_type": "markdown",
   "metadata": {},
   "source": [
    "### Statistic Aggregation\n",
    "Lastly, we show an example of how to aggregate county statistics using `Workflows`"
   ]
  },
  {
   "cell_type": "code",
   "execution_count": null,
   "metadata": {},
   "outputs": [],
   "source": [
    "places = dl.Places()\n",
    "iowa_counties = places.prefix('north-america_united-states_iowa')['features']\n",
    "\n",
    "geoms = []\n",
    "names = []\n",
    "for c in iowa_counties:\n",
    "    geoms.append(Polygon(c['geometry']['coordinates'][0]))\n",
    "    names.append(c['properties']['name'])\n",
    "\n",
    "d = {'county': names, 'geometry': geoms}\n",
    "gdf = gpd.GeoDataFrame(d, crs=\"EPSG:4326\")\n",
    "gdf.head()"
   ]
  },
  {
   "cell_type": "markdown",
   "metadata": {},
   "source": [
    "### Show the geojson features on the map"
   ]
  },
  {
   "cell_type": "code",
   "execution_count": null,
   "metadata": {},
   "outputs": [],
   "source": [
    "# Add layer control\n",
    "layer_control = ipyleaflet.LayersControl(position=\"topright\")\n",
    "m.add_control(layer_control)\n",
    "\n",
    "# Set up widget for metadata display\n",
    "output = ipywidgets.Output(\n",
    "    layout={'min_width':'150px','min_height':'20px',\n",
    "            'max_width':'500px','max_height':'200px'}\n",
    ")\n",
    "output = wf.interactive.clearable.ClearableOutput(output)\n",
    "output = output.children[0]\n",
    "output_ctrl = ipyleaflet.WidgetControl(widget=output, position='bottomright')\n",
    "m.add_control(output_ctrl)\n",
    "@output.capture()\n",
    "\n",
    "# Set up hovering feature\n",
    "def circle_hover(feature, **kwargs):\n",
    "    output.clear_output()\n",
    "    print(f\"{feature['properties']['county']} County\")\n",
    "    \n",
    "with output:\n",
    "    # Add metadata to the map from a geodataframe\n",
    "    geodata = gdf.__geo_interface__\n",
    "    circle_marker = ipyleaflet.GeoJSON(\n",
    "        data=geodata,\n",
    "        hover_style={\"fillColor\": \"#2E99DF\", \"fillOpacity\": 0.7},\n",
    "        name=\"Iowa Counties\"\n",
    "    )\n",
    "    circle_marker.on_hover(circle_hover)\n",
    "    m.add_layer(circle_marker)\n",
    "    \n",
    "# Reset map to see counties\n",
    "m.center = (42.1891, -93.1264)\n",
    "m.zoom = 10"
   ]
  },
  {
   "cell_type": "markdown",
   "metadata": {},
   "source": [
    "### Convert the polygons into geocontexts that are compatible with workflows\n",
    "You may want to change the parameters, for example to a different resolution"
   ]
  },
  {
   "cell_type": "code",
   "execution_count": null,
   "metadata": {},
   "outputs": [],
   "source": [
    "def create_wf_geocontext(geom):\n",
    "    ctx = wf.GeoContext(\n",
    "        geometry=geom,\n",
    "        crs='EPSG:3857',\n",
    "        resolution=100.\n",
    "    )\n",
    "    return ctx\n",
    "\n",
    "geocontexts = [create_wf_geocontext(g.buffer(0)) for g in gdf.geometry]"
   ]
  },
  {
   "cell_type": "markdown",
   "metadata": {},
   "source": [
    "### Aggregation over the NDRI and NDTI indices"
   ]
  },
  {
   "cell_type": "code",
   "execution_count": null,
   "metadata": {},
   "outputs": [],
   "source": [
    "# Define final portion of workflow that aggregates the indices\n",
    "ndri_ = ndri.min(axis=\"images\").mean(axis='pixels')\n",
    "ndti_ = ndti.min(axis=\"images\").mean(axis='pixels')\n",
    "\n",
    "# Compute aggregated statistics for the first five counties\n",
    "agg = [[ndri_.compute(ctx)['NDRI'], ndti_.compute(ctx)['NDTI']] for ctx in geocontexts[:5]]\n",
    "\n",
    "# Put the outputs into a dataframe\n",
    "df = pd.DataFrame(agg, columns=['NDRI', 'NDTI'])\n",
    "agg_values = gdf.join(df)\n",
    "agg_values.head()"
   ]
  },
  {
   "cell_type": "code",
   "execution_count": null,
   "metadata": {},
   "outputs": [],
   "source": []
  }
 ],
 "metadata": {
  "kernelspec": {
   "display_name": "Python 3",
   "language": "python",
   "name": "python3"
  },
  "language_info": {
   "codemirror_mode": {
    "name": "ipython",
    "version": 3
   },
   "file_extension": ".py",
   "mimetype": "text/x-python",
   "name": "python",
   "nbconvert_exporter": "python",
   "pygments_lexer": "ipython3",
   "version": "3.7.10"
  }
 },
 "nbformat": 4,
 "nbformat_minor": 4
}
