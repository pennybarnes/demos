{
 "cells": [
  {
   "cell_type": "markdown",
   "metadata": {},
   "source": [
    "# Sustainable Agriculture - Cover Crops\n",
    "_____"
   ]
  },
  {
   "cell_type": "markdown",
   "metadata": {},
   "source": [
    "The purpose of this notebook is to demonstrate how the Descartes Labs platform can assist in quickly developing sustainable agriculture analysis and workflows. \n",
    "\n",
    "The notebook shows a cover crop prediction model, based on the methodology implemented in the paper [\"Remote Sensing to Monitor Cover Crop Adoption in Southeastern Pennsylvania\"](https://www.jswconline.org/content/jswc/70/6/340.full.pdf). The algorithm uses NDVI thresholds based on wintertime imagery following summertime row crops. NDVI thresholds are used to determine what pixels contain different amounts of cover crops (which can also be interpreted as wintertime vegetation). \n",
    "\n",
    "You can run the cells in this notebook one at a time by using `Shift-Enter`"
   ]
  },
  {
   "cell_type": "code",
   "execution_count": 1,
   "metadata": {},
   "outputs": [],
   "source": [
    "# keep logging quiet\n",
    "import logging\n",
    "logger = logging.getLogger()\n",
    "logger.setLevel(logging.INFO)\n",
    "logging.captureWarnings(True)"
   ]
  },
  {
   "cell_type": "code",
   "execution_count": 2,
   "metadata": {},
   "outputs": [],
   "source": [
    "# import packages\n",
    "import descarteslabs as dl\n",
    "import descarteslabs.workflows as wf\n",
    "\n",
    "import ipywidgets\n",
    "from ipywidgets import Layout\n",
    "\n",
    "import ipyleaflet\n",
    "from ipyleaflet import GeoData\n",
    "\n",
    "from shapely.geometry import Polygon\n",
    "\n",
    "from collections import defaultdict\n",
    "import geopandas as gpd\n",
    "\n",
    "from cover_crops_wf import CoverCrops"
   ]
  },
  {
   "cell_type": "markdown",
   "metadata": {},
   "source": [
    "### Set up an interactive map"
   ]
  },
  {
   "cell_type": "code",
   "execution_count": 3,
   "metadata": {},
   "outputs": [],
   "source": [
    "cc_m = CoverCrops(wf.map)\n",
    "cc_m.m.center = (40.1109, -76.6141)\n",
    "cc_m.m.zoom = 13"
   ]
  },
  {
   "cell_type": "markdown",
   "metadata": {},
   "source": [
    "### Display relevant Pennsylvania counties\n",
    "\n",
    "The paper that motivates this work conducted a survey in the following PA counties: Berks, Lancaster, Lebanon, York. Here, we use the DL Places API to get the outlines of these counties and display them on an interactive map."
   ]
  },
  {
   "cell_type": "code",
   "execution_count": 4,
   "metadata": {},
   "outputs": [],
   "source": [
    "# Get counties of interest\n",
    "places = dl.Places()\n",
    "pa_counties = places.prefix('north-america_united-states_pennsylvania')['features']\n",
    "pa_counties_oi = [p for p in pa_counties if p['properties']['name'] in ['Berks', 'Lancaster', 'Lebanon', 'York']]\n",
    "\n",
    "geoms = []\n",
    "names = []\n",
    "for c in pa_counties_oi:\n",
    "    geoms.append(Polygon(c['geometry']['coordinates'][0]))\n",
    "    names.append(c['properties']['name'])\n",
    "\n",
    "d = {'county': names, 'geometry': geoms}\n",
    "gdf = gpd.GeoDataFrame(d, crs=\"EPSG:4326\")\n",
    "gdf.head()\n",
    "\n",
    "# Add counties of interest to the map\n",
    "# Add layer control\n",
    "layer_control = ipyleaflet.LayersControl(position=\"topright\")\n",
    "cc_m.m.add_control(layer_control)\n",
    "\n",
    "# Set up widget for metadata display\n",
    "output = ipywidgets.Output(\n",
    "    layout={'min_width':'150px','min_height':'20px',\n",
    "            'max_width':'500px','max_height':'200px'}\n",
    ")\n",
    "output = wf.interactive.clearable.ClearableOutput(output)\n",
    "output = output.children[0]\n",
    "output_ctrl = ipyleaflet.WidgetControl(widget=output, position='bottomright')\n",
    "cc_m.m.add_control(output_ctrl)\n",
    "@output.capture()\n",
    "\n",
    "# Set up hovering feature\n",
    "def circle_hover(feature, **kwargs):\n",
    "    output.clear_output()\n",
    "    print(f\"{feature['properties']['county']} County\")\n",
    "    \n",
    "with output:\n",
    "    # Add metadata to the map from a geodataframe\n",
    "    geodata = gdf.__geo_interface__\n",
    "    circle_marker = ipyleaflet.GeoJSON(\n",
    "        data=geodata,\n",
    "        hover_style={\"fillColor\": \"#2E99DF\", \"fillOpacity\": 0.0},\n",
    "        style={\"fillColor\": \"#2E99DF\", \"fillOpacity\": 0.0},\n",
    "        name=\"PA Counties of Interest\"\n",
    "    )\n",
    "    circle_marker.on_hover(circle_hover)\n",
    "    cc_m.m.add_layer(circle_marker)"
   ]
  },
  {
   "cell_type": "markdown",
   "metadata": {},
   "source": [
    "### Allow for analysis flexibility with user-based year selection\n",
    "\n",
    "We create a year selection box and add it to the interactive map. When the year is changed by a user, analysis is automatically re-run for the selected year."
   ]
  },
  {
   "cell_type": "markdown",
   "metadata": {},
   "source": [
    "### Display the interactive map"
   ]
  },
  {
   "cell_type": "code",
   "execution_count": 5,
   "metadata": {},
   "outputs": [
    {
     "data": {
      "application/vnd.jupyter.widget-view+json": {
       "model_id": "b3c2ef7d43d24d4abd47537feb3207e1",
       "version_major": 2,
       "version_minor": 0
      },
      "text/plain": [
       "\n",
       "`ipyleaflet` and/or `ipywidgets` Jupyter extensions are not installed! (or you're not in a Jupyter notebook.)\n",
       "To install for JupyterLab, run this in a cell:\n",
       "    !jupyter labextension install jupyter-leaflet @jupyter-widgets/jupyterlab-manager\n",
       "To install for plain Jupyter Notebook, run this in a cell:\n",
       "    !jupyter nbextension enable --py --sys-prefix ipyleaflet\n",
       "Then, restart the kernel and refresh the webpage.\n"
      ]
     },
     "metadata": {},
     "output_type": "display_data"
    }
   ],
   "source": [
    "cc_m.m"
   ]
  },
  {
   "cell_type": "code",
   "execution_count": 6,
   "metadata": {},
   "outputs": [
    {
     "data": {
      "application/vnd.jupyter.widget-view+json": {
       "model_id": "c5b5253af59c440c8d44865ccfa4698f",
       "version_major": 2,
       "version_minor": 0
      },
      "text/plain": [
       "Output()"
      ]
     },
     "metadata": {},
     "output_type": "display_data"
    }
   ],
   "source": [
    "cc_m.fig_output"
   ]
  },
  {
   "cell_type": "markdown",
   "metadata": {},
   "source": [
    "### Define imagery layers for cover crop analysis\n",
    "The below cell computes all of the layers needed to compute the cover crop analysis. \n",
    "\n",
    "First we define a Sentinel-2 image collection that is masked with an internal dlcloud product. A NDVI image collection is computed from the original image collection's red and nir bands, and two output layers are computed: (1) a maximum NDVI composite, and (2) a RGB composite, indexed by argmax NDVI.\n",
    "\n",
    "The second layer is derived from the Cropland Data Layer (CDL). For this derived layer, we create a mask from all pixels labeled as corn or soy in the previous growing season. Cover crops are most likely to be grown following a season of corn or soy, so we filter the outputs to compute on only these regions."
   ]
  },
  {
   "cell_type": "code",
   "execution_count": 7,
   "metadata": {},
   "outputs": [],
   "source": [
    "# Control visualization with year parameter\n",
    "year = wf.parameter(\"year\", wf.Int)\n",
    "\n",
    "# Get cloud masked Sentinel-2 data\n",
    "\n",
    "# Define Image Collection\n",
    "ic = wf.ImageCollection.from_id(\n",
    "    \"sentinel-2:L1C\",\n",
    "    wf.Datetime(year, month=2, day=23),\n",
    "    wf.Datetime(year, month=4, day=1),\n",
    "    processing_level=\"surface\"\n",
    ").pick_bands(\"red green blue nir\")\n",
    "\n",
    "# Define cloud masks image collection\n",
    "cloudmask = (\n",
    "    wf.ImageCollection.from_id(\n",
    "        \"sentinel-2:L1C:dlcloud:v1\",\n",
    "        wf.Datetime(year, month=2, day=23),\n",
    "        wf.Datetime(year, month=4, day=1)\n",
    "    ).pick_bands(\"valid_cloudfree\") == 0\n",
    ")\n",
    "\n",
    "# Make an ImageCollectionGroupby object, for quicker\n",
    "# lookups from `ic` by date (you can use it like a dict)\n",
    "ic_date_groupby = ic.groupby(\n",
    "    dates=(\"year\", \"month\", \"day\")\n",
    ")\n",
    "\n",
    "# For each cloudmask date, pick the corresponding image from `ic` \n",
    "# by date, mosaic both, and mask them. (It may be that not all \n",
    "# scenes have cloudmasks processed, so this ensures we only \n",
    "# return scenes that do.)\n",
    "masked_ic = cloudmask.groupby(\n",
    "    dates=(\"year\", \"month\", \"day\")\n",
    ").map(\n",
    "    lambda ymd, mask_imgs: ic_date_groupby[ymd].mosaic()\n",
    "    .mask(mask_imgs.mosaic())\n",
    ")\n",
    "\n",
    "# Get max NDVI and visualize\n",
    "nir, red = masked_ic.unpack_bands(\"nir red\")\n",
    "ndvi = wf.normalized_difference(nir, red).rename_bands('ndvi')\n",
    "# ndvi = (nir - red)/(nir + red)\n",
    "    \n",
    "s2_max_ndvi = ndvi.max(axis='images')\n",
    "\n",
    "# Get RGB based on max NDVI and visualize\n",
    "s2_rgb = masked_ic.pick_bands(\"red green blue\").sortby_composite(ndvi, operation=\"argmax\")\n",
    "\n",
    "# Visualize composites\n",
    "s2_rgb.visualize('Sentinel-2 RGB, sorted by Max NDVI', scales=[[0, 0.3], [0, 0.3], [0, 0.3]], year=cc_m.year_select)\n",
    "s2_max_ndvi.visualize('Sentinel-2 max NDVI', scales=[1.0, 0], colormap='Greys', year=cc_m.year_select)\n",
    "\n",
    "# Get imagery from previous year's CDL\n",
    "cdl = wf.ImageCollection.from_id(\n",
    "    'usda:cdl:v1',\n",
    "    start_datetime=wf.Datetime(year - 1),\n",
    "    end_datetime=wf.Datetime(year)\n",
    ").mosaic()\n",
    "\n",
    "# Get crops of interest\n",
    "combined = (cdl == 1) | (cdl == 5)"
   ]
  },
  {
   "cell_type": "code",
   "execution_count": 8,
   "metadata": {},
   "outputs": [
    {
     "data": {
      "application/vnd.jupyter.widget-view+json": {
       "model_id": "2df659997f854f52a62f55728b73c75e",
       "version_major": 2,
       "version_minor": 0
      },
      "text/plain": [
       "VBox(children=(HTML(value='<b>CDL Corn and Soy</b>'), HBox(children=(VBox(children=(Label(value='year'),)), VB…"
      ]
     },
     "metadata": {},
     "output_type": "display_data"
    }
   ],
   "source": [
    "# Display combined crop mask\n",
    "combined.mask(~combined).visualize(\n",
    "    'CDL Corn and Soy',\n",
    "    colormap='Wistia',\n",
    "    checkerboard=False,\n",
    "    year=cc_m.year_select)"
   ]
  },
  {
   "cell_type": "markdown",
   "metadata": {},
   "source": [
    "### Define cover crop intensity with NDVI thresholds\n",
    "\n",
    "Using the maximum NDVI composite derived in the previous cell, several bins of varied vegetation cover are defined using NDVI thresholds.\n",
    "\n",
    "Following the guideline in [this paper](https://www.jswconline.org/content/jswc/70/6/340.full.pdf), we define Minimal Vegetation Cover as anything with NDVI < 0.29, Low Vegetation Cover with 0.29 <= NDVI < 0.40, Medium Vegetation Cover with 0.40 <= NDVI < 0.53, and High Vegetation Cover with NDVI >= 0.53.\n",
    "\n",
    "Each of these vegetation cover bins are calculated separately below, then displayed on the interactive map as individual layers. The Minimal, Low, Medium, and High Cover classes display on the map as red, orange, yellow, and green, respectively."
   ]
  },
  {
   "cell_type": "code",
   "execution_count": 9,
   "metadata": {},
   "outputs": [
    {
     "data": {
      "application/vnd.jupyter.widget-view+json": {
       "model_id": "90b5875191aa43fba98daa8179c1f45e",
       "version_major": 2,
       "version_minor": 0
      },
      "text/plain": [
       "VBox(children=(HTML(value='<b>High Cover Crop</b>'), HBox(children=(VBox(children=(Label(value='year'),)), VBo…"
      ]
     },
     "metadata": {},
     "output_type": "display_data"
    }
   ],
   "source": [
    "# Minimal\n",
    "min_veg = s2_max_ndvi < 0.29\n",
    "min_veg.mask(~combined).mask(~min_veg).visualize(\n",
    "    'Minimal Cover Crop',\n",
    "    colormap='bwr',\n",
    "    checkerboard=False,\n",
    "    year=cc_m.year_select)\n",
    "\n",
    "# Low\n",
    "low_veg = (s2_max_ndvi >= 0.29) & (s2_max_ndvi < 0.40)\n",
    "low_veg.mask(~combined).mask(~low_veg).visualize(\n",
    "    'Low Cover Crop',\n",
    "    colormap='Wistia',\n",
    "    checkerboard=False,\n",
    "    year=cc_m.year_select)\n",
    "\n",
    "# Medium\n",
    "med_veg = (s2_max_ndvi >= 0.40) & (s2_max_ndvi < 0.53)\n",
    "med_veg.mask(~combined).mask(~med_veg).visualize(\n",
    "    'Medium Cover Crop',\n",
    "    colormap='autumn',\n",
    "    checkerboard=False,\n",
    "    year=cc_m.year_select)\n",
    "\n",
    "# High\n",
    "high_veg = (s2_max_ndvi >= 0.53)\n",
    "high_veg.mask(~combined).mask(~high_veg).visualize(\n",
    "    'High Cover Crop',\n",
    "    colormap='RdYlGn',\n",
    "    checkerboard=False,\n",
    "    year=cc_m.year_select)"
   ]
  },
  {
   "cell_type": "code",
   "execution_count": null,
   "metadata": {},
   "outputs": [],
   "source": []
  }
 ],
 "metadata": {
  "kernelspec": {
   "display_name": "Python 3",
   "language": "python",
   "name": "python3"
  },
  "language_info": {
   "codemirror_mode": {
    "name": "ipython",
    "version": 3
   },
   "file_extension": ".py",
   "mimetype": "text/x-python",
   "name": "python",
   "nbconvert_exporter": "python",
   "pygments_lexer": "ipython3",
   "version": "3.7.10"
  }
 },
 "nbformat": 4,
 "nbformat_minor": 4
}
