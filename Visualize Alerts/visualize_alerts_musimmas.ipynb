{
 "cells": [
  {
   "cell_type": "markdown",
   "metadata": {},
   "source": [
    "# Visualize alerts!\n",
    "To run this, you need to have `appsci_utils` and `deforestation` modules installed.\n",
    "```\n",
    "$ cd appsci_utils\n",
    "$ pip install .\n",
    "$ cd ~/deforestation\n",
    "$ python setup develop --user\n",
    "```\n",
    "\n",
    "#This notebook has been altered to "
   ]
  },
  {
   "cell_type": "code",
   "execution_count": 1,
   "metadata": {},
   "outputs": [],
   "source": [
    "# Definet the parameter file\n",
    "par_file = \"par/alerts_20210815_20210901.py\""
   ]
  },
  {
   "cell_type": "code",
   "execution_count": 2,
   "metadata": {},
   "outputs": [],
   "source": [
    "%load_ext autoreload\n",
    "%autoreload 2"
   ]
  },
  {
   "cell_type": "code",
   "execution_count": 3,
   "metadata": {},
   "outputs": [
    {
     "name": "stderr",
     "output_type": "stream",
     "text": [
      "/opt/conda/lib/python3.7/site-packages/descarteslabs/common/workflows/arrow_serialization/context.py:57: FutureWarning: 'pyarrow.SerializationContext' is deprecated and will be removed in a future version. Use pickle or the pyarrow IPC functionality instead.\n",
      "  serialization_context = pa.SerializationContext()\n",
      "/opt/conda/lib/python3.7/site-packages/descarteslabs/common/workflows/arrow_serialization/context.py:58: FutureWarning: 'pyarrow.register_default_serialization_handlers' is deprecated as of 2.0.0 and will be removed in a future version. Use pickle or the pyarrow IPC functionality instead.\n",
      "  pa.register_default_serialization_handlers(serialization_context)\n"
     ]
    }
   ],
   "source": [
    "from collections import Counter\n",
    "from copy import copy\n",
    "import datetime\n",
    "import imp\n",
    "import json\n",
    "import logging\n",
    "logging.basicConfig(level=logging.INFO)\n",
    "import os\n",
    "import yaml\n",
    "\n",
    "import geopandas as gpd\n",
    "from glob import glob\n",
    "import ipyleaflet\n",
    "import ipywidgets\n",
    "import matplotlib.pyplot as plt\n",
    "%matplotlib inline\n",
    "import numpy as np\n",
    "import pandas as pd\n",
    "from pathlib import Path\n",
    "import shapely\n",
    "from shapely import geometry\n",
    "import shutil\n",
    "from subprocess import check_output\n",
    "from tqdm import tqdm\n",
    "from typing import List, Optional\n",
    "\n",
    "from composite_wf import composite\n",
    "import descarteslabs as dl\n",
    "import descarteslabs.workflows as wf\n",
    "\n",
    "from appsci_utils.schema.coercion_functions import load_and_validate_source\n",
    "from deforestation.reporting.schema import metadata_schema\n",
    "from unilever.write_alerts_delivery_UL_v2 import WriteHandler"
   ]
  },
  {
   "cell_type": "markdown",
   "metadata": {},
   "source": [
    "## Load alerts"
   ]
  },
  {
   "cell_type": "code",
   "execution_count": 6,
   "metadata": {},
   "outputs": [
    {
     "name": "stdout",
     "output_type": "stream",
     "text": [
      "gsutil cp gs://dl-appsci/deforestation/reporting/unilever/metadata_delivery_2021-08-15_2021-09-01/alerts_delivery_2021-08-15_2021-09-01.geojson metadata_delivery_2021-08-15_2021-09-01/\n",
      "gsutil cp gs://dl-appsci/deforestation/reporting/unilever/metadata_delivery_2021-08-15_2021-09-01/clusters_delivery_2021-08-15_2021-09-01.geojson metadata_delivery_2021-08-15_2021-09-01/\n",
      "Local files are at:\n",
      "metadata_delivery_2021-08-15_2021-09-01/clusters_delivery_2021-08-15_2021-09-01.geojson\n",
      "metadata_delivery_2021-08-15_2021-09-01/alerts_delivery_2021-08-15_2021-09-01.geojson\n"
     ]
    }
   ],
   "source": [
    "# Copy alerts and clusters files from GCS\n",
    "\n",
    "# Load the parameter file, which contains all of the file paths\n",
    "params = load_and_validate_source(par_file, schema=metadata_schema)\n",
    "handler = WriteHandler(params, \"tmp\")\n",
    "\n",
    "alerts_fname = handler.output.alerts.gs.geojson.split(\"/\")[-1]\n",
    "clusters_fname = handler.output.clusters.gs.geojson.split(\"/\")[-1]\n",
    "\n",
    "# Local file paths\n",
    "local_dir = handler.output.alerts.gs.geojson.split(\"/\")[-2]+\"/\"\n",
    "clusters_fpath = os.path.join(local_dir, clusters_fname)\n",
    "alerts_fpath = os.path.join(local_dir, alerts_fname)\n",
    "\n",
    "# Copy files from GCS to local\n",
    "Path(local_dir).mkdir(exist_ok=True)\n",
    "if not os.path.exists(os.path.join(local_dir, alerts_fname)):\n",
    "    cmd = f\"gsutil cp {handler.output.alerts.gs.geojson} {local_dir}\"\n",
    "    print(cmd)\n",
    "    check_output(cmd.split())\n",
    "if not os.path.exists(os.path.join(local_dir, clusters_fname)):\n",
    "    cmd = f\"gsutil cp {handler.output.clusters.gs.geojson} {local_dir}\"\n",
    "    print(cmd)\n",
    "    check_output(cmd.split())\n",
    "    \n",
    "# Print local files\n",
    "print(\"Local files are at:\")\n",
    "print(clusters_fpath)\n",
    "print(alerts_fpath)"
   ]
  },
  {
   "cell_type": "code",
   "execution_count": 7,
   "metadata": {},
   "outputs": [
    {
     "name": "stdout",
     "output_type": "stream",
     "text": [
      "Open metadata_delivery_2021-08-15_2021-09-01/clusters_delivery_2021-08-15_2021-09-01.geojson\n",
      "Number of clusters: 11099. Priority ind/small-holder = [6, 9]\n",
      "Open metadata_delivery_2021-08-15_2021-09-01/alerts_delivery_2021-08-15_2021-09-01.geojson\n",
      "Number of alerts: 16180. Priority ind/small-holder = [16, 714]\n"
     ]
    }
   ],
   "source": [
    "# Load clusters and alerts\n",
    "print(f\"Open {clusters_fpath}\")\n",
    "clusters = gpd.read_file(clusters_fpath)\n",
    "ind_c = clusters[clusters[\"industrial_priority\"] ==1]\n",
    "sm_c = clusters[clusters[\"smallholder_priority\"] ==1]\n",
    "print(f\"Number of clusters: {len(clusters)}. Priority ind/small-holder = [{len(ind_c)}, {len(sm_c)}]\")\n",
    "\n",
    "print(f\"Open {alerts_fpath}\")\n",
    "alerts = gpd.read_file(alerts_fpath)\n",
    "ind_a = alerts[alerts[\"industrial_priority\"] ==1]\n",
    "sm_a = alerts[alerts[\"smallholder_priority\"] ==1]\n",
    "print(f\"Number of alerts: {len(alerts)}. Priority ind/small-holder = [{len(ind_a)}, {len(sm_a)}]\")"
   ]
  },
  {
   "cell_type": "code",
   "execution_count": 8,
   "metadata": {},
   "outputs": [
    {
     "name": "stdout",
     "output_type": "stream",
     "text": [
      "Loaded palm concessions with 2093 polygons\n",
      "Loaded wood concessions with 863 polygons\n"
     ]
    }
   ],
   "source": [
    "# Concessions: Get or make a directory for concessions in deforestation/data/wri_concessions/\n",
    "# Available at: https://data.globalforestwatch.org/datasets/d7d79dee63124deaaad070cc9d820ade_0\n",
    "try:\n",
    "    cc_dir = Path(Path(os.getcwd()).parent, \"data\", \"wri_concessions\")\n",
    "    cc_dir.mkdir(parents=True, exist_ok=True)\n",
    "    cc_src = \"gs://dl-appsci/deforestation/data/wri_concessions/*.zip\"\n",
    "\n",
    "    # Download concessions data from GCS, unpack\n",
    "    if any([\n",
    "        not Path(cc_dir, \"Indonesia_oil_palm_concessions.shp\").exists(),\n",
    "        not Path(cc_dir, \"Sarawak_oil_palm_concessions.shp\").exists(),\n",
    "        not Path(cc_dir, \"Indonesia_wood_fiber_concessions.shp\").exists(),\n",
    "        not Path(cc_dir, \"Sarawak_logging_concessions.shp\").exists(),\n",
    "        not Path(cc_dir, \"Sarawak_Licenses_for_Planted_Forests_(LPFs).shp\").exists(),\n",
    "    ]):\n",
    "        cmd = f\"gsutil -m cp {cc_src} {cc_dir}/\"\n",
    "        print(cmd)\n",
    "        check_output(cmd.split())\n",
    "        _ = [shutil.unpack_archive(ff, cc_dir) for ff in glob(os.path.join(cc_dir, \"*.zip\"))]\n",
    "\n",
    "    # Load concessions into 2 files, palm and wood\n",
    "    i_palm_concessions = gpd.read_file(\"../data/wri_concessions/Indonesia_oil_palm_concessions.shp\")\n",
    "    s_palm_concessions = gpd.read_file(\"../data/wri_concessions/Sarawak_oil_palm_concessions.shp\")\n",
    "    palm_concessions = i_palm_concessions.append(s_palm_concessions)\n",
    "    print(f\"Loaded palm concessions with {len(palm_concessions)} polygons\")\n",
    "\n",
    "    i_wood_concessions = gpd.read_file(\"../data/wri_concessions/Indonesia_wood_fiber_concessions.shp\")\n",
    "    s_wood_concessions = gpd.read_file(\"../data/wri_concessions/Sarawak_logging_concessions.shp\")\n",
    "    s_lpf_concessions = gpd.read_file(\"../data/wri_concessions/Sarawak_Licenses_for_Planted_Forests_(LPFs).shp\")\n",
    "    wood_concessions = i_wood_concessions.append(s_wood_concessions)\n",
    "    wood_concessions = wood_concessions.append(s_lpf_concessions)\n",
    "    print(f\"Loaded wood concessions with {len(wood_concessions)} polygons\")\n",
    "except:\n",
    "    print(\"Couldn't load concessions data\")"
   ]
  },
  {
   "cell_type": "code",
   "execution_count": 9,
   "metadata": {},
   "outputs": [
    {
     "name": "stderr",
     "output_type": "stream",
     "text": [
      "16180it [00:02, 6280.40it/s]\n"
     ]
    },
    {
     "name": "stdout",
     "output_type": "stream",
     "text": [
      "Make HeatMap\n"
     ]
    }
   ],
   "source": [
    "# Make an area-weighted heat map of alerts\n",
    "loc_area = []\n",
    "for idx, alert in tqdm(alerts.iterrows()):\n",
    "    center = alert.geometry.centroid.xy\n",
    "    lon, lat = center[0][0], center[1][0]\n",
    "    loc_area.append([lat, lon, alert.alert_area])\n",
    "    \n",
    "# Area-weighted heatmap\n",
    "print(\"Make HeatMap\")\n",
    "heatmap2 = ipyleaflet.Heatmap(\n",
    "    locations = loc_area,\n",
    "    radius=5,\n",
    "    blur=4,\n",
    "    max=0.05,\n",
    "    gradient={0.2: \"blue\", 0.3: \"cyan\", 0.7: \"purple\", 0.9: \"yellow\", 1.: \"red\"},\n",
    ")"
   ]
  },
  {
   "cell_type": "code",
   "execution_count": 10,
   "metadata": {},
   "outputs": [],
   "source": [
    "# Define Before - After composites\n",
    "kwargs = {\n",
    "    \"product\": \"sentinel-2:L1C\",\n",
    "    \"bands\": [\"red\", \"green\", \"blue\"],\n",
    "    \"processing_level\": \"surface\",\n",
    "    \"resampler\": \"near\",\n",
    "   \"strategy\": \"median\",    \n",
    "    \"cloudmask_product\": \"sentinel-2:L1C:dlcloud:v1\",\n",
    "    \"cloudmask_invalid\": 0.1,\n",
    "    \"cloudmask_bands\": [\"valid_cloudfree\"],\n",
    "    \"imagemask_bands\": [\"bright-mask\", \"cloud-mask\"],\n",
    "}\n",
    "kwargs_before = copy(kwargs)\n",
    "kwargs_before[\"start_datetime\"] = \"2020-01-01\"\n",
    "kwargs_before[\"end_datetime\"] = \"2020-02-01\"\n",
    "\n",
    "kwargs_after = copy(kwargs)\n",
    "kwargs_after[\"start_datetime\"] = \"2021-01-01\"\n",
    "kwargs_after[\"end_datetime\"] = \"2021-02-01\""
   ]
  },
  {
   "cell_type": "code",
   "execution_count": null,
   "metadata": {},
   "outputs": [
    {
     "name": "stderr",
     "output_type": "stream",
     "text": [
      "INFO:numexpr.utils:Note: NumExpr detected 16 cores but \"NUMEXPR_MAX_THREADS\" not set, so enforcing safe limit of 8.\n",
      "INFO:numexpr.utils:NumExpr defaulting to 8 threads.\n"
     ]
    }
   ],
   "source": [
    "# Vector layers\n",
    "clusters_layer = ipyleaflet.GeoData(\n",
    "    geo_dataframe = clusters,\n",
    "    style={\"color\": \"red\", \"fillOpacity\":0.},\n",
    "    name=\"clusters\",\n",
    ")\n",
    "alerts_layer = ipyleaflet.GeoData(\n",
    "    geo_dataframe = alerts,\n",
    "    name='alerts',\n",
    "    style={'color': 'yellow', 'fillOpacity':0.},\n",
    ")\n",
    "\n",
    "# Concessions\n",
    "try:\n",
    "    palm_concessions_layer = ipyleaflet.GeoData(\n",
    "            geo_dataframe = palm_concessions,\n",
    "            name='palm_concessions',\n",
    "            style={'color': 'blue', 'fillOpacity':0},\n",
    "    )\n",
    "    wood_concessions_layer = ipyleaflet.GeoData(\n",
    "            geo_dataframe = wood_concessions,\n",
    "            name='wood_concessions',\n",
    "            style={'color': 'purple', 'fillOpacity':0},\n",
    "    )\n",
    "except:\n",
    "    print(\"Failed to load concessions\")"
   ]
  },
  {
   "cell_type": "code",
   "execution_count": null,
   "metadata": {},
   "outputs": [],
   "source": [
    "# Raster layers\n",
    "s2_2020 = (\n",
    "    wf.ImageCollection.from_id(\"descarteslabs:forest_carbon:S2_GEDI:composite:v1.0\",\n",
    "                               start_datetime=\"2020-06-30\",\n",
    "                               end_datetime=\"2020-07-02\")\n",
    "    .pick_bands([\"red\", \"green\", \"blue\"])\n",
    "    .mosaic()\n",
    ")\n",
    "\n",
    "# Before / After S2 composites\n",
    "# before_c = composite(**kwargs_before).pick_bands(kwargs[\"bands\"])\n",
    "# after_c = composite(**kwargs_after).pick_bands(kwargs[\"bands\"])\n",
    "\n",
    "# Deforestation\n",
    "def_v3 = (\n",
    "    wf.ImageCollection.from_id(\"descarteslabs:ul_deforestation_external_v3\",\n",
    "                               start_datetime=\"2020-01-01\",\n",
    "                               end_datetime=\"2022-01-01\")\n",
    "    .pick_bands([\"detection_date\"])\n",
    "    .sorted(lambda img: img.properties['date'])\n",
    "    .mosaic()\n",
    ")\n",
    "def_hist = (\n",
    "    wf.ImageCollection.from_id(\"descarteslabs:ul_deforestation_combined_v3\",\n",
    "                               start_datetime=\"2017-01-01\",\n",
    "                               end_datetime=\"2021-01-01\")\n",
    "    .pick_bands([\"detection_date\"])\n",
    "    .mosaic()\n",
    ")\n",
    "\n",
    "# Combine historical and real-time deforestation products,\n",
    "# preferring the real-time alerts where they overlap\n",
    "deforestation = wf.concat(def_hist, def_v3).mosaic()\n",
    "# historical_only = def_hist.mask(~def_v3.getmask())\n",
    "\n",
    "# Scales for visualization\n",
    "start_int = int((np.datetime64(\"2018-01-01\") - np.datetime64(\"2015-01-01\")) / np.timedelta64(1, \"D\"))\n",
    "end_int = int((np.datetime64(params[\"end_datetime\"]) - np.datetime64(\"2015-01-01\")) / np.timedelta64(1, \"D\"))\n",
    "print(start_int, end_int, params[\"end_datetime\"])"
   ]
  },
  {
   "cell_type": "markdown",
   "metadata": {},
   "source": [
    "# Visualize"
   ]
  },
  {
   "cell_type": "code",
   "execution_count": null,
   "metadata": {},
   "outputs": [],
   "source": [
    "# Create the map\n",
    "m1 = None\n",
    "m1 = wf.interactive.MapApp()\n",
    "#m1.center = (0.6056, 116.4798) # Borneo\n",
    "#m1.center = (3.0689, 97.5589) # Aceh\n",
    "#m1.zoom = 12\n",
    "m1.add_control(ipyleaflet.LayersControl(position='topright'))\n",
    "m1.control_other_layers = True\n",
    "m1.map.layout.height = \"600px\""
   ]
  },
  {
   "cell_type": "code",
   "execution_count": null,
   "metadata": {},
   "outputs": [],
   "source": [
    "# Add on_click handler\n",
    "# Pop-up window for feature properties\n",
    "def popup_m1(feature, **kwargs):\n",
    "    geom = geometry.shape(feature[\"geometry\"])\n",
    "    popup = ipyleaflet.Popup(\n",
    "        location=[geom.centroid.y, geom.centroid.x],\n",
    "        child=ipywidgets.HTML(value=f\"{feature['properties']}\"),\n",
    "        close_button=True,\n",
    "        auto_close=True,\n",
    "        name=\"popup_properties\"\n",
    "    )\n",
    "    try:\n",
    "        m1.remove_layer(\"popup_properties\")\n",
    "    except:\n",
    "        pass\n",
    "    m1.add_layer(popup)\n",
    "    \n",
    "clusters_layer.on_click(popup_m1)\n",
    "try:\n",
    "    palm_concessions_layer.on_click(popup_m1)\n",
    "    wood_concessions_layer.on_click(popup_m1)\n",
    "except:\n",
    "    print(\"Failed to load concessions\")"
   ]
  },
  {
   "cell_type": "code",
   "execution_count": null,
   "metadata": {},
   "outputs": [],
   "source": [
    "m1.clear_layers()\n",
    "\n",
    "# Add layers in the order I want to turn them on\n",
    "s2_2020.visualize(name=\"Sentintel 2\", map=m1, scales=[[0,1200], [0,1200], [0,1200]], checkerboard=False)\n",
    "#before_c.visualize(\"before\", scales=[[0, 2000], [0, 2000], [0, 2000]], map=m1)\n",
    "#after_c.visualize(\"after\", scales=[[0, 2000], [0, 2000], [0, 2000]], map=m1)\n",
    "\n",
    "# For carbon, pixel values are in [MgC/pixel]. 27 MgC/pixel = 300 MgC/ha = 27*1e4/(30**2)\n",
    "# agc.visualize(name=\"above_ground_carbon\", map=m1, colormap=\"viridis\", scales=[[0, 27]], checkerboard=False)\n",
    "deforestation.visualize(name=\"DL Alerts\", colormap=\"plasma\",scales=[[start_int, end_int]], map=m1, checkerboard=False)\n",
    "#def_hist.visualize(name=\"DL 2020\", map=m1, checkerboard=False)\n",
    "\n",
    "try:\n",
    "   m1.add_layer(palm_concessions_layer)\n",
    "   m1.add_layer(wood_concessions_layer)\n",
    "except:\n",
    "   print(\"Failed to load concessions\")\n",
    "\n",
    "\n",
    "m1.add_layer(alerts_layer)\n",
    "m1.add_layer(clusters_layer)\n",
    "m1.add_layer(heatmap2)"
   ]
  },
  {
   "cell_type": "code",
   "execution_count": null,
   "metadata": {},
   "outputs": [],
   "source": [
    "# RADD Deforestation\n",
    "radd = (\n",
    "    wf.ImageCollection.from_id(\"descarteslabs:wri_radd_alerts:v1\",\n",
    "                               start_datetime=\"2020-01-01\",\n",
    "                               end_datetime=\"2021-07-01\")\n",
    "#        .pick_bands([\"date\", \"alert\"])\n",
    "#    .mosaic()\n",
    ")\n",
    "alert_mask = radd.pick_bands([\"date\"])\n",
    "radd = radd.pick_bands([\"alert\"])\n",
    "\n",
    "radd_mask = radd != 3\n",
    "alert_mask= alert_mask <= 20001\n",
    "\n",
    "radd = radd.mask(radd_mask)\n",
    "radd = radd.mask(alert_mask).mosaic()\n",
    "\n",
    "radd.visualize(name=\"RADD alerts 2020 to July 21\", map=m1, checkerboard=False)\n",
    "\n"
   ]
  },
  {
   "cell_type": "code",
   "execution_count": null,
   "metadata": {},
   "outputs": [],
   "source": [
    "m1"
   ]
  },
  {
   "cell_type": "code",
   "execution_count": null,
   "metadata": {},
   "outputs": [],
   "source": [
    "# m1.center = (0.8789, 106.5234) #Map overview\n",
    "# m1.zoom = 6\n",
    "\n",
    "# m1.center =(3.9483, 96.7275) # Aceh\n",
    "# m1.zoom = 13\n",
    "\n",
    "# m1.center =(0.3529, 102.8226) # Pelawan/Riau\n",
    "# m1.zoom = 13\n",
    "\n",
    "#m1.center =(-2.1895, 103.1618) # South Sumatra/Musi Banyuasin\n",
    "#m1.zoom = 13\n",
    "\n",
    "m1.center =(1.1827, 109.7441) # Sambas\n",
    "m1.zoom = 13\n"
   ]
  },
  {
   "cell_type": "code",
   "execution_count": null,
   "metadata": {},
   "outputs": [],
   "source": [
    "\n",
    "deforestation.visualize(name=\"DL Historical\", map=m1, colormap=\"plasma\", scales=[[start_int, end_int]], checkerboard=False)"
   ]
  },
  {
   "cell_type": "code",
   "execution_count": null,
   "metadata": {},
   "outputs": [],
   "source": []
  }
 ],
 "metadata": {
  "kernelspec": {
   "display_name": "Python 3",
   "language": "python",
   "name": "python3"
  },
  "language_info": {
   "codemirror_mode": {
    "name": "ipython",
    "version": 3
   },
   "file_extension": ".py",
   "mimetype": "text/x-python",
   "name": "python",
   "nbconvert_exporter": "python",
   "pygments_lexer": "ipython3",
   "version": "3.7.10"
  }
 },
 "nbformat": 4,
 "nbformat_minor": 4
}
