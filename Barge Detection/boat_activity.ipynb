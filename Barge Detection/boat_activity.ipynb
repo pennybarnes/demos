{
 "cells": [
  {
   "cell_type": "markdown",
   "metadata": {},
   "source": [
    "# Boat activity monitoring\n",
    "In this notebook we will use Descartes Labs `Workflows` to build an interactive map to **monitor river boat traffic on the Yangtze River in China**.  In the map below, you can draw a custom AOI on the Yangtze River (or any water body in the world), and we use synthetic aperture radar (SAR) data from Sentinel-1 to detect the presence of boats within that AOI over the past year.\n",
    "\n",
    "You can run the following cells using `Shift-Enter`."
   ]
  },
  {
   "cell_type": "markdown",
   "metadata": {},
   "source": [
    "## Import packages"
   ]
  },
  {
   "cell_type": "code",
   "execution_count": 1,
   "metadata": {
    "jupyter": {
     "source_hidden": true
    }
   },
   "outputs": [],
   "source": [
    "# keep logging quiet\n",
    "import logging\n",
    "logging.getLogger().setLevel(logging.INFO)\n",
    "logging.captureWarnings(True)"
   ]
  },
  {
   "cell_type": "code",
   "execution_count": 2,
   "metadata": {},
   "outputs": [],
   "source": [
    "# import packages\n",
    "import descarteslabs.workflows as wf\n",
    "from boat_activity_utils import TimeSeries"
   ]
  },
  {
   "cell_type": "markdown",
   "metadata": {},
   "source": [
    "## Define the image layers that we will visualize in the map below"
   ]
  },
  {
   "cell_type": "markdown",
   "metadata": {},
   "source": [
    "#### Synthetic Aperture Radar (SAR) data from Sentinel-1"
   ]
  },
  {
   "cell_type": "code",
   "execution_count": 3,
   "metadata": {},
   "outputs": [],
   "source": [
    "sar = (\n",
    "        wf.ImageCollection.from_id('sentinel-1:GRD',\n",
    "                                   start_datetime='2019-03-01',\n",
    "                                   end_datetime='2020-04-01')\n",
    "        .pick_bands(['vv', 'vh'])\n",
    "      )\n",
    "\n",
    "# Create base map from the Sentinel-1 SAR\n",
    "base_sar = sar.tail(2).median(axis='images').mean(axis='bands')\n",
    "lyr = base_sar.visualize('SAR', scales=[[0.0, 0.3]], colormap='viridis', checkerboard=False)\n",
    "lyr.visible = False"
   ]
  },
  {
   "cell_type": "markdown",
   "metadata": {},
   "source": [
    "#### Visble (red green blue) imagery from Sentinel-2"
   ]
  },
  {
   "cell_type": "code",
   "execution_count": 4,
   "metadata": {},
   "outputs": [],
   "source": [
    "rgb = (\n",
    "        wf.ImageCollection.from_id('sentinel-2:L1C',\n",
    "                                   start_datetime='2019-08-01',\n",
    "                                   end_datetime='2019-12-01')\n",
    "        .pick_bands(['red', 'green', 'blue'])\n",
    "        .filter(lambda img: img.properties['cloud_fraction'] < 0.1)\n",
    "      )\n",
    "\n",
    "# Create RGB map from Sentinel-2\n",
    "base_rgb = rgb.min(axis='images') # a minimum composite is good for avoiding haze\n",
    "base_rgb.visualize('RGB', scales=[[0.0, 0.3], [0.0, 0.3], [0.0, 0.3]], checkerboard=False)"
   ]
  },
  {
   "cell_type": "code",
   "execution_count": 5,
   "metadata": {},
   "outputs": [],
   "source": [
    "test1 = (\n",
    "        wf.ImageCollection.from_id('airbus:oneatlas:spot:v2',\n",
    "                                   start_datetime='2019-08-01',\n",
    "                                   end_datetime='2019-12-01')\n",
    "        .pick_bands(['red', 'green', 'blue'])\n",
    " #       .filter(lambda img: img.properties['cloud_fraction'] < 0.1)\n",
    "      )\n",
    "\n",
    "# Create RGB map from Sentinel-2\n",
    "test = test1.min(axis='images') # a minimum composite is good for avoiding haze\n",
    "test.visualize('SPOT', scales=[[0.0, 255], [0.0, 255], [0.0, 255]], checkerboard=False)"
   ]
  },
  {
   "cell_type": "markdown",
   "metadata": {},
   "source": [
    "## Process the SAR layer to create a layer tracking the presence of boats."
   ]
  },
  {
   "cell_type": "code",
   "execution_count": 6,
   "metadata": {},
   "outputs": [],
   "source": [
    "# Create a mask based on thresholding the SAR signal, taking the average over all\n",
    "# images and thresholding the average\n",
    "mask = ((sar.mean(axis='bands')>0.02).mean(axis='images')>0.95)\n",
    "\n",
    "# Threshold the SAR signal to get pixels with high value and apply the mask to only\n",
    "# include objects over water\n",
    "thresh = (sar.mean(axis='bands')>0.25).mask(mask)\n",
    "\n",
    "# Apply a spatial convolution to smooth the detection layer\n",
    "w = wf.Kernel(dims=(5,5), data=[1.0, 1.0, 1.0, 1.0, 1.0, \\\n",
    "                                1.0, 2.0, 3.0, 2.0, 1.0, \\\n",
    "                                1.0, 3.0, 4.0, 3.0, 1.0, \\\n",
    "                                1.0, 2.0, 3.0, 2.0, 1.0, \\\n",
    "                                1.0, 1.0, 1.0, 1.0, 1.0])\n",
    "conv = wf.conv2d(thresh.sum(axis='images'), w)\n",
    "\n",
    "# Display on the map below\n",
    "conv.visualize('Average Boats', scales=[[0.0, 100.0]], colormap='cividis', checkerboard=False)"
   ]
  },
  {
   "cell_type": "markdown",
   "metadata": {},
   "source": [
    "## Create the custom widget, imported from `boat_activity_utils.py`, that calculates the historical time series of boat activity within the user-defined Area of Interest (AOI)."
   ]
  },
  {
   "cell_type": "code",
   "execution_count": 7,
   "metadata": {},
   "outputs": [],
   "source": [
    "# Create time series\n",
    "boats_timeseries = TimeSeries(wf.map, bin_month=False)"
   ]
  },
  {
   "cell_type": "markdown",
   "metadata": {},
   "source": [
    "## Define the Area of Interest (AOI)"
   ]
  },
  {
   "cell_type": "code",
   "execution_count": 8,
   "metadata": {},
   "outputs": [],
   "source": [
    "wf.map.center = 30.5095, 111.4354 # Yangtze River, China, 1000 km from Pacific Ocean.\n",
    "wf.map.height = 1200\n",
    "wf.map.zoom = 12\n",
    "wf.map.map.layout.height=\"500px\""
   ]
  },
  {
   "cell_type": "markdown",
   "metadata": {},
   "source": [
    "## Finally, display and interact with the map.\n",
    "Yon can use the draw tools on the left side of the map to define your AOI for the historical analysis."
   ]
  },
  {
   "cell_type": "code",
   "execution_count": 9,
   "metadata": {},
   "outputs": [
    {
     "data": {
      "application/vnd.jupyter.widget-view+json": {
       "model_id": "1e5b08cd05b9425189d261a67e33e188",
       "version_major": 2,
       "version_minor": 0
      },
      "text/plain": [
       "\n",
       "`ipyleaflet` and/or `ipywidgets` Jupyter extensions are not installed! (or you're not in a Jupyter notebook.)\n",
       "To install for JupyterLab, run this in a cell:\n",
       "    !jupyter labextension install jupyter-leaflet @jupyter-widgets/jupyterlab-manager\n",
       "To install for plain Jupyter Notebook, run this in a cell:\n",
       "    !jupyter nbextension enable --py --sys-prefix ipyleaflet\n",
       "Then, restart the kernel and refresh the webpage.\n"
      ]
     },
     "metadata": {},
     "output_type": "display_data"
    }
   ],
   "source": [
    "wf.map\n"
   ]
  },
  {
   "cell_type": "markdown",
   "metadata": {},
   "source": [
    "### If desired, return the AOI boat counts as a pandas `dataframe`.\n",
    "You must first draw an AOI in the map above.  Then uncomment and run the line below."
   ]
  },
  {
   "cell_type": "code",
   "execution_count": 10,
   "metadata": {},
   "outputs": [],
   "source": [
    "# boats_timeseries.df"
   ]
  },
  {
   "cell_type": "code",
   "execution_count": 11,
   "metadata": {},
   "outputs": [],
   "source": [
    "#try midland"
   ]
  }
 ],
 "metadata": {
  "kernelspec": {
   "display_name": "Python 3",
   "language": "python",
   "name": "python3"
  },
  "language_info": {
   "codemirror_mode": {
    "name": "ipython",
    "version": 3
   },
   "file_extension": ".py",
   "mimetype": "text/x-python",
   "name": "python",
   "nbconvert_exporter": "python",
   "pygments_lexer": "ipython3",
   "version": "3.7.10"
  }
 },
 "nbformat": 4,
 "nbformat_minor": 4
}
