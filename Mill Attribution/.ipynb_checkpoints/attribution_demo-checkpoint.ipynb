{
 "cells": [
  {
   "cell_type": "markdown",
   "id": "5df62e09",
   "metadata": {},
   "source": [
    "# Mill-level attribution research and design"
   ]
  },
  {
   "cell_type": "code",
   "execution_count": null,
   "id": "e38e08e7",
   "metadata": {},
   "outputs": [],
   "source": [
    "import geopandas as gpd\n",
    "import json\n",
    "import matplotlib.pyplot as plt\n",
    "from mpl_toolkits.axes_grid1 import make_axes_locatable\n",
    "import numpy as np\n",
    "import pandas as pd\n",
    "from shapely.geometry import Point, mapping\n",
    "\n",
    "import descarteslabs as dl\n",
    "import descarteslabs.workflows as wf\n",
    "from descarteslabs.client.services.storage import Storage\n",
    "\n",
    "import attribution_utils as utils\n",
    "from attribution_utils import MillDistance"
   ]
  },
  {
   "cell_type": "code",
   "execution_count": null,
   "id": "101fba6c",
   "metadata": {},
   "outputs": [],
   "source": [
    "# Version of the analysis\n",
    "version = 1\n",
    "\n",
    "# Define the buffer to be created around the mill in degrees (0.1 ~10k)\n",
    "buffer = 0.25\n",
    "\n",
    "# List of DL Products used here\n",
    "composite_id = \"descarteslabs:forest_carbon:S2_GEDI:composite:v1.1\"\n",
    "deforestation_id = \"descarteslabs:ul_deforestation_external_v3\"\n",
    "forest_carbon_id = \"descarteslabs:GEDI:TCH:ForestCarbon:final:v2.1\"\n",
    "palm_mask_id = \"descarteslabs:unilever-palm-classification-v3\"\n",
    "\n",
    "# Font sizes to use\n",
    "ftitle = 20\n",
    "flabel = 18"
   ]
  },
  {
   "cell_type": "markdown",
   "id": "c5d813eb",
   "metadata": {},
   "source": [
    "## 1. Calculating statistics on deforestation and carbon lost per mill\n",
    "\n",
    "### 1.1. Overview of the methodology (see also `attribution_utils.py`)"
   ]
  },
  {
   "cell_type": "code",
   "execution_count": null,
   "id": "5a85c567",
   "metadata": {},
   "outputs": [],
   "source": [
    "# Create the buffer around one mill\n",
    "lat, lon = 3.294139, 102.821528\n",
    "geometry = Point(lon, lat).buffer(buffer)\n",
    "\n",
    "# AOI definitions\n",
    "resolution = 30  # m\n",
    "aoi = dl.scenes.AOI(geometry=mapping(geometry), resolution=resolution)\n",
    "pixel_area = resolution * resolution\n",
    "m2_to_ha = 0.0001"
   ]
  },
  {
   "cell_type": "code",
   "execution_count": null,
   "id": "9d4bd9de",
   "metadata": {},
   "outputs": [],
   "source": [
    "# Load Sentinel-2 Composite\n",
    "scenes, ctx = dl.scenes.search(\n",
    "    aoi,\n",
    "    products=composite_id,\n",
    "    start_datetime=\"2015-01-01\",\n",
    "    end_datetime=\"2020-12-01\",\n",
    "    limit=500,\n",
    ")\n",
    "s2_composite = scenes.mosaic(\"red green blue\", ctx)\n",
    "\n",
    "dl.scenes.display(s2_composite)"
   ]
  },
  {
   "cell_type": "code",
   "execution_count": null,
   "id": "fd5293e4",
   "metadata": {},
   "outputs": [],
   "source": [
    "# Load the deforestation and forest carbon over the AOI\n",
    "acd, defor = utils.regional_maps(aoi)\n",
    "\n",
    "plt.figure(figsize=(20,20))\n",
    "plt.subplot(1,2,1)\n",
    "im = plt.imshow(defor, cmap = \"magma\")\n",
    "cbar = plt.colorbar(im,fraction=0.046, pad=0.04)\n",
    "cbar.ax.tick_params(labelsize=flabel) \n",
    "plt.title(\"Deforested Area\", fontsize=ftitle)\n",
    "\n",
    "plt.subplot(1,2,2)\n",
    "im = plt.imshow(acd/pixel_area/m2_to_ha)\n",
    "cbar = plt.colorbar(im,fraction=0.046, pad=0.04)\n",
    "cbar.ax.tick_params(labelsize=flabel) \n",
    "plt.title(\"Above Ground Carbon Density Mg C/ha\", fontsize=ftitle)\n",
    "plt.show()"
   ]
  },
  {
   "cell_type": "code",
   "execution_count": null,
   "id": "b5acdd26",
   "metadata": {},
   "outputs": [],
   "source": [
    "# Load the weights we'll use\n",
    "weights = utils.get_spatial_weights(*acd.shape)\n",
    "weights_1d = weights[round(weights.shape[1]/2.),:]\n",
    "\n",
    "# Plot\n",
    "fig, (ax, ax2) = plt.subplots(ncols=2, figsize=(20,20))\n",
    "\n",
    "im = ax.imshow(weights, cmap = \"plasma\")\n",
    "divider = make_axes_locatable(ax)\n",
    "cax = divider.append_axes('right', size='5%', pad=0.05)\n",
    "cax.tick_params(labelsize=flabel)\n",
    "fig.colorbar(im, cax=cax, orientation='vertical')\n",
    "ax.set_title(\"Weights Based on Distance to Mill\", fontsize=ftitle)\n",
    "\n",
    "ax2.plot(weights_1d)\n",
    "ax2.set_title(\"Cross-section of Weights Based on Distance to Mill\", fontsize=ftitle)\n",
    "\n",
    "asp = np.diff(ax2.get_xlim())[0] / np.diff(ax2.get_ylim())[0]\n",
    "ax2.set_aspect(asp)\n",
    "\n",
    "plt.show()"
   ]
  },
  {
   "cell_type": "code",
   "execution_count": null,
   "id": "d400b27d",
   "metadata": {},
   "outputs": [],
   "source": [
    "# Count the total area deforested (ha)\n",
    "total_defor_area = np.sum(defor) * pixel_area * m2_to_ha\n",
    "    \n",
    "# Count the total forest carbon lost (Mg C)\n",
    "total_defor_carbon = np.sum(acd[defor > 0])\n",
    "\n",
    "# Maximum weighted average of carbon lost if all area was deforested (Mg C)\n",
    "max_carbon = np.average(acd, weights=weights)\n",
    "\n",
    "# Maximum weighted average of deforested area if all area was deforested (ha)\n",
    "forest_mask = np.array(acd[:])\n",
    "forest_mask[forest_mask > 0] = 1\n",
    "max_area = np.average(forest_mask * pixel_area * m2_to_ha, weights=weights)\n",
    "\n",
    "# Weighted average of forest carbon lost (Mg C)\n",
    "defor_carbon = np.array(acd[:])\n",
    "defor_carbon[defor == 0] = 0\n",
    "defor_carbon_mean = np.average(defor_carbon, weights=weights)\n",
    "\n",
    "# Weighted average of deforested area (ha)\n",
    "defor_area_mean = np.average(defor * pixel_area * m2_to_ha, weights=weights)\n",
    "\n",
    "# Percentage of maximum forest carbon lost and deforested area\n",
    "carbon_score = 100 * defor_carbon_mean / max_carbon\n",
    "area_score = 100 * defor_area_mean / max_area\n",
    "\n",
    "print(\"Total deforested area: {} ha\".format(total_defor_area))\n",
    "print(\"Total forest carbon lost: {} Mg C\".format(total_defor_carbon))\n",
    "print(\"Area Score: {}\".format(area_score))\n",
    "print(\"Carbon Score: {}\".format(carbon_score))"
   ]
  },
  {
   "cell_type": "markdown",
   "id": "e38a6fb6",
   "metadata": {},
   "source": [
    "### 1.2. Now deploy for the Universal Mill List\n",
    "\n",
    "#### Load Universal Mill List over Indonesia and Malaysia"
   ]
  },
  {
   "cell_type": "code",
   "execution_count": null,
   "id": "060f5cd7",
   "metadata": {},
   "outputs": [],
   "source": [
    "# Load table and filter for mills in Indonesia and Malaysia\n",
    "df_uml = pd.read_csv(\"Universal_Mill_List.csv\")\n",
    "df_uml = df_uml[(df_uml[\"Country\"]==\"Indonesia\") | (df_uml[\"Country\"]==\"Malaysia\")]\n",
    "print(\"Total number of mills: {}\".format(len(df_uml.index)))\n",
    "\n",
    "# Get the coordinates of the mills\n",
    "lons = df_uml.X.values\n",
    "lats = df_uml.Y.values\n",
    "mill_ids = df_uml.UML_ID.values"
   ]
  },
  {
   "cell_type": "markdown",
   "id": "f7fb7028",
   "metadata": {},
   "source": [
    "#### Calculate statistics for each mill\n",
    "This only needs to be run once since the results are saved to DL Storage"
   ]
  },
  {
   "cell_type": "code",
   "execution_count": null,
   "id": "b8f47d6e",
   "metadata": {},
   "outputs": [],
   "source": [
    "# Create arguments\n",
    "task_args = [[lats[i], lons[i], mill_ids[i], buffer, version] for i in range(len(lats))]\n",
    "\n",
    "run_tasks = True\n",
    "if run_tasks:\n",
    "\n",
    "    # Create Tasks function\n",
    "    docker_image = \"us.gcr.io/dl-ci-cd/images/tasks/public/py3.7:v2021.03.03-6-g160ae345\"\n",
    "    async_func = dl.tasks.create_function(\n",
    "        \"attribution_utils.calculate_scores_per_mill\",\n",
    "        name=\"mill_attribution\",\n",
    "        image=docker_image,\n",
    "        memory=\"11Gi\",\n",
    "        retry_count=2,\n",
    "        maximum_concurrency=100,\n",
    "        include_modules=[\"attribution_utils\"],\n",
    "        )\n",
    "\n",
    "    # Deploy Tasks\n",
    "    tasks = async_func.map(task_args)"
   ]
  },
  {
   "cell_type": "code",
   "execution_count": null,
   "id": "6b9d941e",
   "metadata": {},
   "outputs": [],
   "source": [
    "run_check = False\n",
    "if run_check:\n",
    "    \n",
    "    # Get results stored in DL Storage\n",
    "    storage_keys = list(Storage().iter_list(prefix=\"mill_stats_mvp_v{}\".format(version)))\n",
    "    nmills = len(storage_keys)\n",
    "    \n",
    "    all_keys = list(map(lambda i: \"mill_stats_mvp_v{}_{}_{}\".format(version, lats[i], lons[i]), range(len(lons))))\n",
    "    missing = list(set(all_keys).difference(set(storage_keys)))\n",
    "    missing_task_args = list(map(lambda i: task_args[all_keys.index(missing[i])], range(len(missing))))\n",
    "    print(\"{} missing mills.\".format(len(missing_task_args)))\n",
    "\n",
    "    if len(missing_task_args) > 0:\n",
    "        \n",
    "        # Create Tasks function\n",
    "        docker_image = \"us.gcr.io/dl-ci-cd/images/tasks/public/py3.7:v2021.03.03-6-g160ae345\"\n",
    "        async_func = dl.tasks.create_function(\n",
    "            \"attribution_utils.calculate_scores_per_mill\",\n",
    "            name=\"mill_attribution\",\n",
    "            image=docker_image,\n",
    "            memory=\"11Gi\",\n",
    "            retry_count=2,\n",
    "            maximum_concurrency=100,\n",
    "            include_modules=[\"attribution_utils\"],\n",
    "            )\n",
    "\n",
    "        # Deploy Tasks\n",
    "        tasks_rerun = async_func.map(missing_task_args)"
   ]
  },
  {
   "cell_type": "markdown",
   "id": "6beefbaf",
   "metadata": {},
   "source": [
    "#### Aggregate results from DL Storage"
   ]
  },
  {
   "cell_type": "code",
   "execution_count": null,
   "id": "78b75fcc",
   "metadata": {},
   "outputs": [],
   "source": [
    "gdf = utils.get_df_from_results(version)\n",
    "gdf.head()"
   ]
  },
  {
   "cell_type": "markdown",
   "id": "602c8bdd",
   "metadata": {},
   "source": [
    "#### Quick visualizations"
   ]
  },
  {
   "cell_type": "code",
   "execution_count": null,
   "id": "6d2b5baa",
   "metadata": {},
   "outputs": [],
   "source": [
    "se_asia = gpd.read_file(\"indonesia_and_malaysia.geojson\")\n",
    "\n",
    "fig, ax = plt.subplots(1, 1, figsize=(20,20))\n",
    "divider = make_axes_locatable(ax)\n",
    "cax = divider.append_axes(\"right\", size=\"5%\", pad=0.1)\n",
    "base = se_asia.plot(color='lightgray', edgecolor='black', ax=ax)\n",
    "gdf.plot(column=\"carbon_score\", cmap=\"magma\", ax=base, legend=True, cax=cax, alpha=0.75)\n",
    "ax.set_title('Carbon Score over Mills in Southeast Asia', fontsize=ftitle)\n",
    "cax.tick_params(labelsize=flabel)"
   ]
  },
  {
   "cell_type": "code",
   "execution_count": null,
   "id": "ad70fce5",
   "metadata": {},
   "outputs": [],
   "source": [
    "fig, ax = plt.subplots(2, 2, figsize=(10,10))\n",
    "gdf.hist(column=\"total_deforested_area\", ax=ax[0][0], log=True)\n",
    "ax[0][0].set_xlabel(\"Hectares\"); ax[0][0].set_ylabel(\"Frequency\")\n",
    "\n",
    "gdf.hist(column=\"total_carbon_lost\", ax=ax[0][1], log=True)\n",
    "ax[0][1].set_xlabel(\"Mg C\"); ax[0][1].set_ylabel(\"Frequency\")\n",
    "\n",
    "gdf.hist(column=\"area_score\", ax=ax[1][0], log=True)\n",
    "ax[1][0].set_xlabel(\"Unitless\"); ax[1][0].set_ylabel(\"Frequency\")\n",
    "\n",
    "gdf.hist(column=\"carbon_score\", ax=ax[1][1], log=True)\n",
    "ax[1][1].set_xlabel(\"Unitless\"); ax[1][1].set_ylabel(\"Frequency\")\n",
    "plt.show()"
   ]
  },
  {
   "cell_type": "markdown",
   "id": "a131fdfa",
   "metadata": {},
   "source": [
    "### 1.3. Visualize results using DL Workflows\n",
    "\n",
    "#### Create raster layer of scores on carbon lost and deforested area for each mill"
   ]
  },
  {
   "cell_type": "code",
   "execution_count": null,
   "id": "dd80b760",
   "metadata": {},
   "outputs": [],
   "source": [
    "lons = gdf.lon.values\n",
    "lats = gdf.lat.values\n",
    "carbon_scores = gdf.carbon_score.values\n",
    "area_scores = gdf.area_score.values\n",
    "buffer_image = 0.05\n",
    "\n",
    "raster_carbon_score = utils.get_wf_raster_layer(lons, lats, carbon_scores, buffer_image)\n",
    "area_carbon_score = utils.get_wf_raster_layer(lons, lats, carbon_scores, buffer_image)"
   ]
  },
  {
   "cell_type": "markdown",
   "id": "4e400bfe",
   "metadata": {},
   "source": [
    "#### Add a few other interesting layers"
   ]
  },
  {
   "cell_type": "code",
   "execution_count": null,
   "id": "7979461c",
   "metadata": {},
   "outputs": [],
   "source": [
    "# Load Sentinel 2 composite\n",
    "s2_ic = (wf.ImageCollection.from_id(composite_id,\n",
    "                                    start_datetime=\"2015-01-01\",\n",
    "                                    end_datetime=\"2020-12-01\",\n",
    "                                    resampler=\"near\")\n",
    "                    .mosaic())\n",
    "s2_composite = s2_ic.pick_bands(\"red green blue\")\n",
    "\n",
    "# Get Descartes Labs' forest carbon density product\n",
    "dl_forest_carbon = (wf.ImageCollection.from_id(forest_carbon_id,\n",
    "                                               start_datetime='2019-01-01',\n",
    "                                               end_datetime='2020-12-31',\n",
    "                                               resampler='near')\n",
    "                    .mosaic())\n",
    "dl_acd = dl_forest_carbon.pick_bands([\"acd_tons\"])\n",
    "dl_acd = dl_acd.mask(dl_acd==0)\n",
    "\n",
    "# Load Descartes Labs' deforestation product\n",
    "deforestation_start = \"2020-07-01\"\n",
    "deforestation_end = \"2020-12-31\"\n",
    "defor_ic = (wf.ImageCollection.from_id(deforestation_id,\n",
    "                                       start_datetime=deforestation_start,\n",
    "                                       end_datetime=deforestation_end,\n",
    "                                       resampler='near')\n",
    "            .max(axis='images'))\n",
    "detections = defor_ic.pick_bands(\"detection_date\")\n",
    "dl_deforestation = detections.mask(detections==0)\n",
    "\n",
    "# Load Palm mask for 2020\n",
    "dl_palm = (wf.ImageCollection.from_id(palm_mask_id,\n",
    "                                      start_datetime='2020-01-01',\n",
    "                                      end_datetime='2021-12-31',\n",
    "                                      resampler='near')\n",
    "                    .mosaic())\n",
    "dl_palm = dl_palm.pick_bands([\"class\"])\n",
    "dl_palm = dl_palm.mask(dl_palm==0)"
   ]
  },
  {
   "cell_type": "code",
   "execution_count": null,
   "id": "681c5560",
   "metadata": {},
   "outputs": [],
   "source": [
    "# Visualize all layers together\n",
    "s2_composite.visualize('S2 Composite (2020)', scales=[[0, 1400], [0, 1400], [0, 1400]])\n",
    "dl_acd.visualize('DL Forest Carbon (2019-2020)', checkerboard=False, scales=[0,30], colormap=\"viridis\")\n",
    "dl_deforestation.visualize(\"DL Deforestation\", colormap = 'magma', checkerboard=False)\n",
    "dl_palm.visualize(\"DL Palm (2020)\", colormap = 'Purples', checkerboard=False)\n",
    "raster_carbon_score.visualize('Mill Carbon Score', colormap = 'plasma', scales=[0,5])\n",
    "raster_carbon_score.visualize('Mill Defor Area Score', colormap = 'magma', scales=[0,5])"
   ]
  },
  {
   "cell_type": "code",
   "execution_count": null,
   "id": "debd6669",
   "metadata": {},
   "outputs": [],
   "source": [
    "m=wf.map\n",
    "m.map.center = 3.294139, 102.821528 #-0.4784, 116.5319\n",
    "wf.map.zoom = 11\n",
    "m"
   ]
  },
  {
   "cell_type": "markdown",
   "id": "654d483c",
   "metadata": {},
   "source": [
    "## 2. Identify mills around specific palm plantations\n",
    "\n",
    "### 2.1. Example for one location"
   ]
  },
  {
   "cell_type": "code",
   "execution_count": null,
   "id": "50d10ccd",
   "metadata": {},
   "outputs": [],
   "source": [
    "# Get the Shapely point for the current palm plantation\n",
    "lat_palm, lon_palm = 3.2844, 102.8145\n",
    "palm_plantation = Point(lon_palm, lat_palm)\n",
    "\n",
    "# Calculate the distances to each mill in the Universal Mill List and add it to a duplicated geopandas dataframe\n",
    "dists = list(map(lambda i: gdf[\"geometry\"][i].distance(palm_plantation), range(gdf.shape[0])))\n",
    "gdf_palm = gdf.copy()\n",
    "gdf_palm[\"dist_to_plantation\"] = dists\n",
    "\n",
    "# Sort to find the closest mills\n",
    "gdf_palm = gdf_palm.sort_values(by=['dist_to_plantation'], ignore_index=True)"
   ]
  },
  {
   "cell_type": "code",
   "execution_count": null,
   "id": "f0b34f0d",
   "metadata": {},
   "outputs": [],
   "source": [
    "# Look at the five closest mills\n",
    "gdf_palm.head()"
   ]
  },
  {
   "cell_type": "markdown",
   "id": "59f7b759",
   "metadata": {},
   "source": [
    "### 2.2. Replicate for regions selected on `wf.map`"
   ]
  },
  {
   "cell_type": "code",
   "execution_count": null,
   "id": "57bb16e5",
   "metadata": {},
   "outputs": [],
   "source": [
    "palm_map_results = MillDistance(m)\n",
    "MillDistance.get_arguments(palm_map_results, gdf)"
   ]
  },
  {
   "cell_type": "markdown",
   "id": "83516e8d",
   "metadata": {},
   "source": [
    "#### Warning: Make sure you click on a point on the map or draw a polygon before proceeding"
   ]
  },
  {
   "cell_type": "code",
   "execution_count": null,
   "id": "2e6a515a",
   "metadata": {},
   "outputs": [],
   "source": [
    "gdf_palm_map = palm_map_results.df\n",
    "gdf_palm_map.head()"
   ]
  },
  {
   "cell_type": "markdown",
   "id": "25185048",
   "metadata": {},
   "source": [
    "## Draft code"
   ]
  },
  {
   "cell_type": "code",
   "execution_count": null,
   "id": "5016ad3f",
   "metadata": {},
   "outputs": [],
   "source": [
    "# Load Palm mask over the given area\n",
    "palm_wf = dl_palm.compute(wf.map.geocontext())\n",
    "palm_wf = palm_wf.ndarray.squeeze()"
   ]
  },
  {
   "cell_type": "code",
   "execution_count": null,
   "id": "e42f821b",
   "metadata": {},
   "outputs": [],
   "source": [
    "# Dilate and erode to get a more homegeneous field\n",
    "from scipy.ndimage.morphology import binary_dilation, binary_erosion, generate_binary_structure\n",
    "struct = generate_binary_structure(2,1)\n",
    "print(struct)\n",
    "\n",
    "temp = binary_erosion(palm_wf, structure=struct)\n",
    "temp = binary_dilation(temp, structure=struct)"
   ]
  },
  {
   "cell_type": "code",
   "execution_count": null,
   "id": "139c5584",
   "metadata": {},
   "outputs": [],
   "source": [
    "#plt.figure(figsize=(20,20))\n",
    "plt.subplot(2,1,1); plt.imshow(palm_wf); plt.colorbar()\n",
    "plt.subplot(2,1,2); plt.imshow(temp); plt.colorbar()"
   ]
  }
 ],
 "metadata": {
  "kernelspec": {
   "display_name": "Python 3",
   "language": "python",
   "name": "python3"
  },
  "language_info": {
   "codemirror_mode": {
    "name": "ipython",
    "version": 3
   },
   "file_extension": ".py",
   "mimetype": "text/x-python",
   "name": "python",
   "nbconvert_exporter": "python",
   "pygments_lexer": "ipython3",
   "version": "3.7.10"
  }
 },
 "nbformat": 4,
 "nbformat_minor": 5
}
